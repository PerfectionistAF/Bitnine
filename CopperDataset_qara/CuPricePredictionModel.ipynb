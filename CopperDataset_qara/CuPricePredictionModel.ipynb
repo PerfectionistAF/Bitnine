{
 "cells": [
  {
   "cell_type": "markdown",
   "id": "079409e3",
   "metadata": {},
   "source": [
    "# Copper Prices Prediction - Q4"
   ]
  },
  {
   "cell_type": "markdown",
   "id": "d8835596",
   "metadata": {},
   "source": [
    "## Data Preprocessing"
   ]
  },
  {
   "cell_type": "code",
   "execution_count": 2,
   "id": "d128fa9f",
   "metadata": {},
   "outputs": [],
   "source": [
    "#load data\n",
    "import numpy as np\n",
    "import pandas as pd\n",
    "import matplotlib.pyplot as plt\n",
    "import seaborn as sns\n",
    "import plotly.express as px\n",
    "import os as os\n",
    "import sys as sys\n",
    "plt.style.use('ggplot')\n",
    "pd.set_option('display.max_columns', 200)"
   ]
  },
  {
   "cell_type": "code",
   "execution_count": 3,
   "id": "c265ca23",
   "metadata": {},
   "outputs": [],
   "source": [
    "df = pd.read_csv('Copper Futures Historical Data.csv')"
   ]
  },
  {
   "cell_type": "code",
   "execution_count": 4,
   "id": "a6207d67",
   "metadata": {},
   "outputs": [
    {
     "data": {
      "text/plain": [
       "(23, 7)"
      ]
     },
     "execution_count": 4,
     "metadata": {},
     "output_type": "execute_result"
    }
   ],
   "source": [
    "df.shape"
   ]
  },
  {
   "cell_type": "code",
   "execution_count": 5,
   "id": "876afdca",
   "metadata": {},
   "outputs": [
    {
     "data": {
      "text/html": [
       "<div>\n",
       "<style scoped>\n",
       "    .dataframe tbody tr th:only-of-type {\n",
       "        vertical-align: middle;\n",
       "    }\n",
       "\n",
       "    .dataframe tbody tr th {\n",
       "        vertical-align: top;\n",
       "    }\n",
       "\n",
       "    .dataframe thead th {\n",
       "        text-align: right;\n",
       "    }\n",
       "</style>\n",
       "<table border=\"1\" class=\"dataframe\">\n",
       "  <thead>\n",
       "    <tr style=\"text-align: right;\">\n",
       "      <th></th>\n",
       "      <th>Date</th>\n",
       "      <th>Price</th>\n",
       "      <th>Open</th>\n",
       "      <th>High</th>\n",
       "      <th>Low</th>\n",
       "      <th>Vol.</th>\n",
       "      <th>Change %</th>\n",
       "    </tr>\n",
       "  </thead>\n",
       "  <tbody>\n",
       "    <tr>\n",
       "      <th>0</th>\n",
       "      <td>08/29/2023</td>\n",
       "      <td>3.8022</td>\n",
       "      <td>3.7985</td>\n",
       "      <td>3.8083</td>\n",
       "      <td>3.7905</td>\n",
       "      <td>NaN</td>\n",
       "      <td>0.27%</td>\n",
       "    </tr>\n",
       "    <tr>\n",
       "      <th>1</th>\n",
       "      <td>08/28/2023</td>\n",
       "      <td>3.7920</td>\n",
       "      <td>3.7950</td>\n",
       "      <td>3.8290</td>\n",
       "      <td>3.7800</td>\n",
       "      <td>NaN</td>\n",
       "      <td>-0.28%</td>\n",
       "    </tr>\n",
       "    <tr>\n",
       "      <th>2</th>\n",
       "      <td>08/27/2023</td>\n",
       "      <td>3.8027</td>\n",
       "      <td>3.7887</td>\n",
       "      <td>3.8057</td>\n",
       "      <td>3.7887</td>\n",
       "      <td>NaN</td>\n",
       "      <td>0.49%</td>\n",
       "    </tr>\n",
       "    <tr>\n",
       "      <th>3</th>\n",
       "      <td>08/25/2023</td>\n",
       "      <td>3.7840</td>\n",
       "      <td>3.7890</td>\n",
       "      <td>3.8290</td>\n",
       "      <td>3.7655</td>\n",
       "      <td>44.88K</td>\n",
       "      <td>-0.25%</td>\n",
       "    </tr>\n",
       "    <tr>\n",
       "      <th>4</th>\n",
       "      <td>08/24/2023</td>\n",
       "      <td>3.7935</td>\n",
       "      <td>3.8365</td>\n",
       "      <td>3.8390</td>\n",
       "      <td>3.7860</td>\n",
       "      <td>36.27K</td>\n",
       "      <td>-1.15%</td>\n",
       "    </tr>\n",
       "  </tbody>\n",
       "</table>\n",
       "</div>"
      ],
      "text/plain": [
       "         Date   Price    Open    High     Low    Vol. Change %\n",
       "0  08/29/2023  3.8022  3.7985  3.8083  3.7905     NaN    0.27%\n",
       "1  08/28/2023  3.7920  3.7950  3.8290  3.7800     NaN   -0.28%\n",
       "2  08/27/2023  3.8027  3.7887  3.8057  3.7887     NaN    0.49%\n",
       "3  08/25/2023  3.7840  3.7890  3.8290  3.7655  44.88K   -0.25%\n",
       "4  08/24/2023  3.7935  3.8365  3.8390  3.7860  36.27K   -1.15%"
      ]
     },
     "execution_count": 5,
     "metadata": {},
     "output_type": "execute_result"
    }
   ],
   "source": [
    "df.head() #show some of the data"
   ]
  },
  {
   "cell_type": "code",
   "execution_count": 6,
   "id": "14a02bec",
   "metadata": {},
   "outputs": [
    {
     "data": {
      "text/plain": [
       "pandas.core.frame.DataFrame"
      ]
     },
     "execution_count": 6,
     "metadata": {},
     "output_type": "execute_result"
    }
   ],
   "source": [
    "type(df)"
   ]
  },
  {
   "cell_type": "code",
   "execution_count": 7,
   "id": "c7d64dab",
   "metadata": {},
   "outputs": [
    {
     "data": {
      "text/plain": [
       "Index(['Date', 'Price', 'Open', 'High', 'Low', 'Vol.', 'Change %'], dtype='object')"
      ]
     },
     "execution_count": 7,
     "metadata": {},
     "output_type": "execute_result"
    }
   ],
   "source": [
    "dfcolumns = df.columns\n",
    "dfcolumns"
   ]
  },
  {
   "cell_type": "code",
   "execution_count": 8,
   "id": "c4b5b5b6",
   "metadata": {},
   "outputs": [
    {
     "name": "stdout",
     "output_type": "stream",
     "text": [
      "Date ----------> object\n",
      "Price ----------> float64\n",
      "Open ----------> float64\n",
      "High ----------> float64\n",
      "Low ----------> float64\n",
      "Vol. ----------> object\n",
      "Change % ----------> object\n"
     ]
    }
   ],
   "source": [
    "dftypes = df.dtypes\n",
    "for i in range(len(dftypes)):\n",
    "    print(df[dfcolumns[i]].name,'---------->',dftypes[i])"
   ]
  },
  {
   "cell_type": "code",
   "execution_count": 9,
   "id": "921df9cc",
   "metadata": {},
   "outputs": [
    {
     "name": "stdout",
     "output_type": "stream",
     "text": [
      "<class 'pandas.core.frame.DataFrame'>\n",
      "RangeIndex: 23 entries, 0 to 22\n",
      "Data columns (total 7 columns):\n",
      " #   Column    Non-Null Count  Dtype  \n",
      "---  ------    --------------  -----  \n",
      " 0   Date      23 non-null     object \n",
      " 1   Price     23 non-null     float64\n",
      " 2   Open      23 non-null     float64\n",
      " 3   High      23 non-null     float64\n",
      " 4   Low       23 non-null     float64\n",
      " 5   Vol.      20 non-null     object \n",
      " 6   Change %  23 non-null     object \n",
      "dtypes: float64(4), object(3)\n",
      "memory usage: 1.4+ KB\n"
     ]
    }
   ],
   "source": [
    "df.info()  ##initial data"
   ]
  },
  {
   "cell_type": "code",
   "execution_count": 10,
   "id": "c1157bdd",
   "metadata": {},
   "outputs": [
    {
     "data": {
      "text/html": [
       "<div>\n",
       "<style scoped>\n",
       "    .dataframe tbody tr th:only-of-type {\n",
       "        vertical-align: middle;\n",
       "    }\n",
       "\n",
       "    .dataframe tbody tr th {\n",
       "        vertical-align: top;\n",
       "    }\n",
       "\n",
       "    .dataframe thead th {\n",
       "        text-align: right;\n",
       "    }\n",
       "</style>\n",
       "<table border=\"1\" class=\"dataframe\">\n",
       "  <thead>\n",
       "    <tr style=\"text-align: right;\">\n",
       "      <th></th>\n",
       "      <th>Price</th>\n",
       "      <th>Open</th>\n",
       "      <th>High</th>\n",
       "      <th>Low</th>\n",
       "    </tr>\n",
       "  </thead>\n",
       "  <tbody>\n",
       "    <tr>\n",
       "      <th>count</th>\n",
       "      <td>23.000000</td>\n",
       "      <td>23.000000</td>\n",
       "      <td>23.000000</td>\n",
       "      <td>23.000000</td>\n",
       "    </tr>\n",
       "    <tr>\n",
       "      <th>mean</th>\n",
       "      <td>3.789691</td>\n",
       "      <td>3.796813</td>\n",
       "      <td>3.828630</td>\n",
       "      <td>3.759139</td>\n",
       "    </tr>\n",
       "    <tr>\n",
       "      <th>std</th>\n",
       "      <td>0.083100</td>\n",
       "      <td>0.088468</td>\n",
       "      <td>0.088059</td>\n",
       "      <td>0.077501</td>\n",
       "    </tr>\n",
       "    <tr>\n",
       "      <th>min</th>\n",
       "      <td>3.657500</td>\n",
       "      <td>3.647500</td>\n",
       "      <td>3.694000</td>\n",
       "      <td>3.627000</td>\n",
       "    </tr>\n",
       "    <tr>\n",
       "      <th>25%</th>\n",
       "      <td>3.722250</td>\n",
       "      <td>3.741000</td>\n",
       "      <td>3.758250</td>\n",
       "      <td>3.691000</td>\n",
       "    </tr>\n",
       "    <tr>\n",
       "      <th>50%</th>\n",
       "      <td>3.788500</td>\n",
       "      <td>3.789000</td>\n",
       "      <td>3.829000</td>\n",
       "      <td>3.765500</td>\n",
       "    </tr>\n",
       "    <tr>\n",
       "      <th>75%</th>\n",
       "      <td>3.836250</td>\n",
       "      <td>3.843250</td>\n",
       "      <td>3.859750</td>\n",
       "      <td>3.805500</td>\n",
       "    </tr>\n",
       "    <tr>\n",
       "      <th>max</th>\n",
       "      <td>4.008000</td>\n",
       "      <td>4.015500</td>\n",
       "      <td>4.024000</td>\n",
       "      <td>3.908000</td>\n",
       "    </tr>\n",
       "  </tbody>\n",
       "</table>\n",
       "</div>"
      ],
      "text/plain": [
       "           Price       Open       High        Low\n",
       "count  23.000000  23.000000  23.000000  23.000000\n",
       "mean    3.789691   3.796813   3.828630   3.759139\n",
       "std     0.083100   0.088468   0.088059   0.077501\n",
       "min     3.657500   3.647500   3.694000   3.627000\n",
       "25%     3.722250   3.741000   3.758250   3.691000\n",
       "50%     3.788500   3.789000   3.829000   3.765500\n",
       "75%     3.836250   3.843250   3.859750   3.805500\n",
       "max     4.008000   4.015500   4.024000   3.908000"
      ]
     },
     "execution_count": 10,
     "metadata": {},
     "output_type": "execute_result"
    }
   ],
   "source": [
    "df.describe() #main statistics of numeric types by default"
   ]
  },
  {
   "cell_type": "code",
   "execution_count": 11,
   "id": "1d4039dc",
   "metadata": {},
   "outputs": [
    {
     "data": {
      "text/html": [
       "<div>\n",
       "<style scoped>\n",
       "    .dataframe tbody tr th:only-of-type {\n",
       "        vertical-align: middle;\n",
       "    }\n",
       "\n",
       "    .dataframe tbody tr th {\n",
       "        vertical-align: top;\n",
       "    }\n",
       "\n",
       "    .dataframe thead th {\n",
       "        text-align: right;\n",
       "    }\n",
       "</style>\n",
       "<table border=\"1\" class=\"dataframe\">\n",
       "  <thead>\n",
       "    <tr style=\"text-align: right;\">\n",
       "      <th></th>\n",
       "      <th>Date</th>\n",
       "      <th>Vol.</th>\n",
       "      <th>Change %</th>\n",
       "    </tr>\n",
       "  </thead>\n",
       "  <tbody>\n",
       "    <tr>\n",
       "      <th>count</th>\n",
       "      <td>23</td>\n",
       "      <td>20</td>\n",
       "      <td>23</td>\n",
       "    </tr>\n",
       "    <tr>\n",
       "      <th>unique</th>\n",
       "      <td>23</td>\n",
       "      <td>20</td>\n",
       "      <td>23</td>\n",
       "    </tr>\n",
       "    <tr>\n",
       "      <th>top</th>\n",
       "      <td>08/29/2023</td>\n",
       "      <td>44.88K</td>\n",
       "      <td>0.27%</td>\n",
       "    </tr>\n",
       "    <tr>\n",
       "      <th>freq</th>\n",
       "      <td>1</td>\n",
       "      <td>1</td>\n",
       "      <td>1</td>\n",
       "    </tr>\n",
       "  </tbody>\n",
       "</table>\n",
       "</div>"
      ],
      "text/plain": [
       "              Date    Vol. Change %\n",
       "count           23      20       23\n",
       "unique          23      20       23\n",
       "top     08/29/2023  44.88K    0.27%\n",
       "freq             1       1        1"
      ]
     },
     "execution_count": 11,
     "metadata": {},
     "output_type": "execute_result"
    }
   ],
   "source": [
    "df.describe(include=['object', 'bool']) #main statistics of object and bool types"
   ]
  },
  {
   "cell_type": "code",
   "execution_count": 12,
   "id": "9929ea62",
   "metadata": {},
   "outputs": [],
   "source": [
    "#identify categorical and numerical features\n",
    "#return 2 lists, Numerical columns and Categorical columns\n",
    "def types(Dataframe):\n",
    "    numerical = Dataframe.select_dtypes(exclude = ['object']).columns.tolist()\n",
    "    categorical = Dataframe.select_dtypes(include = ['object']).columns.tolist()\n",
    "    return numerical, categorical"
   ]
  },
  {
   "cell_type": "code",
   "execution_count": 13,
   "id": "ff1cd063",
   "metadata": {},
   "outputs": [],
   "source": [
    "#identify duplicated rows\n",
    "def duplicaterows(Dataframe):\n",
    "    duplicaterows = Dataframe[Dataframe.duplicated()]\n",
    "    if duplicaterows.empty:\n",
    "        print('No duplicated rows found')\n",
    "        df = Dataframe##don't drop duplicates\n",
    "    else:\n",
    "        print(duplicaterows)##drop duplicates\n",
    "        df = Dataframe.drop_duplicates(keep = 'last', inplace = True)\n",
    "    return duplicaterows, df\n",
    "\n",
    "def duplicatecols(Dataframe):\n",
    "    duplicatecols = Dataframe.columns[Dataframe.columns.duplicated()]\n",
    "    if duplicatecols.empty:\n",
    "        print('There are no duplicated cols in this dataframe')\n",
    "        df = Dataframe##don't drop duplicates\n",
    "    else:\n",
    "        print(duplicatecols)\n",
    "        df = Dataframe.drop(columns = duplicatecols, inplace = True)##drop duplicates\n",
    "    return duplicatecols, df"
   ]
  },
  {
   "cell_type": "code",
   "execution_count": 14,
   "id": "d2cbf9e6",
   "metadata": {},
   "outputs": [
    {
     "name": "stdout",
     "output_type": "stream",
     "text": [
      "No duplicated rows found\n",
      "There are no duplicated cols in this dataframe\n"
     ]
    }
   ],
   "source": [
    "#check nulls and duplicates\n",
    "duplicaterows, df = duplicaterows(df)\n",
    "duplicatecols, df = duplicatecols(df)"
   ]
  },
  {
   "cell_type": "code",
   "execution_count": 15,
   "id": "3a205f87",
   "metadata": {},
   "outputs": [
    {
     "name": "stdout",
     "output_type": "stream",
     "text": [
      "['Price', 'Open', 'High', 'Low']\n",
      "_________________________________________\n",
      "\n",
      "['Date', 'Vol.', 'Change %']\n"
     ]
    }
   ],
   "source": [
    "df_n, df_c = types(df)\n",
    "print(df_n)\n",
    "print('_________________________________________\\n')\n",
    "print(df_c)"
   ]
  },
  {
   "cell_type": "code",
   "execution_count": 16,
   "id": "2216b75e",
   "metadata": {},
   "outputs": [
    {
     "name": "stdout",
     "output_type": "stream",
     "text": [
      "['Vol.']\n"
     ]
    }
   ],
   "source": [
    "#identify null values\n",
    "nulllist = []\n",
    "for i in range(len(dfcolumns)):\n",
    "    if df[dfcolumns[i]].isna().sum() != 0 :\n",
    "        nulllist.append(dfcolumns[i])\n",
    "        \n",
    "print(nulllist)"
   ]
  },
  {
   "cell_type": "code",
   "execution_count": 17,
   "id": "88efd4e7",
   "metadata": {},
   "outputs": [
    {
     "data": {
      "text/plain": [
       "Vol.\n",
       "44.88K     1\n",
       "36.27K     1\n",
       "109.74K    1\n",
       "89.27K     1\n",
       "81.96K     1\n",
       "Name: count, dtype: int64"
      ]
     },
     "execution_count": 17,
     "metadata": {},
     "output_type": "execute_result"
    }
   ],
   "source": [
    "#check fill of df['Vol.']\n",
    "prefill = df['Vol.'].value_counts().head()\n",
    "prefill"
   ]
  },
  {
   "cell_type": "code",
   "execution_count": 18,
   "id": "49f11a57",
   "metadata": {},
   "outputs": [],
   "source": [
    "#MANUAL FILLING\n",
    "#fill all null values with max value_count being the most frequent in df\n",
    "#check if column is null\n",
    "def manualnullhandling(Dataframe, nulllist):\n",
    "    for i in range(len(nulllist)):\n",
    "        series = df[nulllist[i]].value_counts()\n",
    "        if series.empty == True:\n",
    "            #fill = 'Default'\n",
    "            print('Fill:', nulllist[i], ' column with:')\n",
    "            print('No fill, since column is empty, so drop')\n",
    "            df.drop(nulllist[i], axis = 1, inplace = True)\n",
    "        else:\n",
    "            fill = df[nulllist[i]].value_counts().index[0]\n",
    "            print('Fill:', nulllist[i], ' column with:')\n",
    "            print(fill)\n",
    "            df[nulllist[i]].fillna(fill, inplace = True)\n",
    "        print('__________________________________________________')"
   ]
  },
  {
   "cell_type": "code",
   "execution_count": 19,
   "id": "78e692cc",
   "metadata": {},
   "outputs": [],
   "source": [
    "#no top values found so manual filling of nan with most frequent value being the index[0] of value_counts\n",
    "#simple methods such as simple imputation is expected to perform poorly in a prediction model\n",
    "#use multivariant methods: iterative or knn\n",
    "#knn is by default based on nearest distance classifiers\n",
    "#iterative uses round robin methods to learn about patterns between data, R based\n",
    "import numpy as np\n",
    "from sklearn.experimental import enable_iterative_imputer\n",
    "from sklearn.impute import IterativeImputer"
   ]
  },
  {
   "cell_type": "code",
   "execution_count": 20,
   "id": "278af2df",
   "metadata": {},
   "outputs": [],
   "source": [
    "#to use iteratve imputer all data shall be numeric\n",
    "#convert Date to date time type\n",
    "#convert Vol. to numeric and change title to Volume in Thousands\n",
    "#convert Change % to numeric and change title to Percentage Change\n",
    "df['Date'] = pd.to_datetime(df['Date'])\n",
    "df['Vol.'] = df['Vol.'].str.replace(\"K\", \"\")\n",
    "df['Change %'] = df['Change %'].str.replace(\"%\", \"\")"
   ]
  },
  {
   "cell_type": "code",
   "execution_count": 21,
   "id": "118b25e8",
   "metadata": {},
   "outputs": [
    {
     "data": {
      "text/plain": [
       "dtype('<M8[ns]')"
      ]
     },
     "execution_count": 21,
     "metadata": {},
     "output_type": "execute_result"
    }
   ],
   "source": [
    "df['Date'].dtype"
   ]
  },
  {
   "cell_type": "code",
   "execution_count": 22,
   "id": "45337ebc",
   "metadata": {},
   "outputs": [
    {
     "data": {
      "text/html": [
       "<div>\n",
       "<style scoped>\n",
       "    .dataframe tbody tr th:only-of-type {\n",
       "        vertical-align: middle;\n",
       "    }\n",
       "\n",
       "    .dataframe tbody tr th {\n",
       "        vertical-align: top;\n",
       "    }\n",
       "\n",
       "    .dataframe thead th {\n",
       "        text-align: right;\n",
       "    }\n",
       "</style>\n",
       "<table border=\"1\" class=\"dataframe\">\n",
       "  <thead>\n",
       "    <tr style=\"text-align: right;\">\n",
       "      <th></th>\n",
       "      <th>Date</th>\n",
       "      <th>Price</th>\n",
       "      <th>Open</th>\n",
       "      <th>High</th>\n",
       "      <th>Low</th>\n",
       "      <th>Vol.</th>\n",
       "      <th>Change %</th>\n",
       "    </tr>\n",
       "  </thead>\n",
       "  <tbody>\n",
       "    <tr>\n",
       "      <th>0</th>\n",
       "      <td>2023-08-29</td>\n",
       "      <td>3.8022</td>\n",
       "      <td>3.7985</td>\n",
       "      <td>3.8083</td>\n",
       "      <td>3.7905</td>\n",
       "      <td>NaN</td>\n",
       "      <td>0.27</td>\n",
       "    </tr>\n",
       "    <tr>\n",
       "      <th>1</th>\n",
       "      <td>2023-08-28</td>\n",
       "      <td>3.7920</td>\n",
       "      <td>3.7950</td>\n",
       "      <td>3.8290</td>\n",
       "      <td>3.7800</td>\n",
       "      <td>NaN</td>\n",
       "      <td>-0.28</td>\n",
       "    </tr>\n",
       "    <tr>\n",
       "      <th>2</th>\n",
       "      <td>2023-08-27</td>\n",
       "      <td>3.8027</td>\n",
       "      <td>3.7887</td>\n",
       "      <td>3.8057</td>\n",
       "      <td>3.7887</td>\n",
       "      <td>NaN</td>\n",
       "      <td>0.49</td>\n",
       "    </tr>\n",
       "    <tr>\n",
       "      <th>3</th>\n",
       "      <td>2023-08-25</td>\n",
       "      <td>3.7840</td>\n",
       "      <td>3.7890</td>\n",
       "      <td>3.8290</td>\n",
       "      <td>3.7655</td>\n",
       "      <td>44.88</td>\n",
       "      <td>-0.25</td>\n",
       "    </tr>\n",
       "    <tr>\n",
       "      <th>4</th>\n",
       "      <td>2023-08-24</td>\n",
       "      <td>3.7935</td>\n",
       "      <td>3.8365</td>\n",
       "      <td>3.8390</td>\n",
       "      <td>3.7860</td>\n",
       "      <td>36.27</td>\n",
       "      <td>-1.15</td>\n",
       "    </tr>\n",
       "  </tbody>\n",
       "</table>\n",
       "</div>"
      ],
      "text/plain": [
       "        Date   Price    Open    High     Low   Vol. Change %\n",
       "0 2023-08-29  3.8022  3.7985  3.8083  3.7905    NaN     0.27\n",
       "1 2023-08-28  3.7920  3.7950  3.8290  3.7800    NaN    -0.28\n",
       "2 2023-08-27  3.8027  3.7887  3.8057  3.7887    NaN     0.49\n",
       "3 2023-08-25  3.7840  3.7890  3.8290  3.7655  44.88    -0.25\n",
       "4 2023-08-24  3.7935  3.8365  3.8390  3.7860  36.27    -1.15"
      ]
     },
     "execution_count": 22,
     "metadata": {},
     "output_type": "execute_result"
    }
   ],
   "source": [
    "df.head()"
   ]
  },
  {
   "cell_type": "code",
   "execution_count": 23,
   "id": "1f335e6b",
   "metadata": {},
   "outputs": [],
   "source": [
    "df['Vol.'] = pd.to_numeric(df['Vol.'])\n",
    "df['Change %'] = pd.to_numeric(df['Change %'])"
   ]
  },
  {
   "cell_type": "code",
   "execution_count": 24,
   "id": "5756596d",
   "metadata": {},
   "outputs": [
    {
     "name": "stdout",
     "output_type": "stream",
     "text": [
      "['Date', 'Price', 'Open', 'High', 'Low', 'Vol.', 'Change %']\n",
      "_________________________________________\n",
      "\n",
      "[]\n"
     ]
    }
   ],
   "source": [
    "df_n, df_c = types(df)\n",
    "print(df_n)\n",
    "print('_________________________________________\\n')\n",
    "print(df_c)"
   ]
  },
  {
   "cell_type": "code",
   "execution_count": 25,
   "id": "6a1dacad",
   "metadata": {},
   "outputs": [
    {
     "data": {
      "text/plain": [
       "dtype('float64')"
      ]
     },
     "execution_count": 25,
     "metadata": {},
     "output_type": "execute_result"
    }
   ],
   "source": [
    "df['Vol.'].dtype"
   ]
  },
  {
   "cell_type": "code",
   "execution_count": 26,
   "id": "601f090b",
   "metadata": {},
   "outputs": [],
   "source": [
    "df = df.rename(columns = {'Vol.' : 'Vol. in Thousands'})\n",
    "df = df.rename(columns = {'Change %' : 'Percentage Change'})"
   ]
  },
  {
   "cell_type": "code",
   "execution_count": 27,
   "id": "818d965b",
   "metadata": {},
   "outputs": [
    {
     "data": {
      "text/html": [
       "<div>\n",
       "<style scoped>\n",
       "    .dataframe tbody tr th:only-of-type {\n",
       "        vertical-align: middle;\n",
       "    }\n",
       "\n",
       "    .dataframe tbody tr th {\n",
       "        vertical-align: top;\n",
       "    }\n",
       "\n",
       "    .dataframe thead th {\n",
       "        text-align: right;\n",
       "    }\n",
       "</style>\n",
       "<table border=\"1\" class=\"dataframe\">\n",
       "  <thead>\n",
       "    <tr style=\"text-align: right;\">\n",
       "      <th></th>\n",
       "      <th>Date</th>\n",
       "      <th>Price</th>\n",
       "      <th>Open</th>\n",
       "      <th>High</th>\n",
       "      <th>Low</th>\n",
       "      <th>Vol. in Thousands</th>\n",
       "      <th>Percentage Change</th>\n",
       "    </tr>\n",
       "  </thead>\n",
       "  <tbody>\n",
       "    <tr>\n",
       "      <th>0</th>\n",
       "      <td>2023-08-29</td>\n",
       "      <td>3.8022</td>\n",
       "      <td>3.7985</td>\n",
       "      <td>3.8083</td>\n",
       "      <td>3.7905</td>\n",
       "      <td>NaN</td>\n",
       "      <td>0.27</td>\n",
       "    </tr>\n",
       "    <tr>\n",
       "      <th>1</th>\n",
       "      <td>2023-08-28</td>\n",
       "      <td>3.7920</td>\n",
       "      <td>3.7950</td>\n",
       "      <td>3.8290</td>\n",
       "      <td>3.7800</td>\n",
       "      <td>NaN</td>\n",
       "      <td>-0.28</td>\n",
       "    </tr>\n",
       "    <tr>\n",
       "      <th>2</th>\n",
       "      <td>2023-08-27</td>\n",
       "      <td>3.8027</td>\n",
       "      <td>3.7887</td>\n",
       "      <td>3.8057</td>\n",
       "      <td>3.7887</td>\n",
       "      <td>NaN</td>\n",
       "      <td>0.49</td>\n",
       "    </tr>\n",
       "    <tr>\n",
       "      <th>3</th>\n",
       "      <td>2023-08-25</td>\n",
       "      <td>3.7840</td>\n",
       "      <td>3.7890</td>\n",
       "      <td>3.8290</td>\n",
       "      <td>3.7655</td>\n",
       "      <td>44.88</td>\n",
       "      <td>-0.25</td>\n",
       "    </tr>\n",
       "    <tr>\n",
       "      <th>4</th>\n",
       "      <td>2023-08-24</td>\n",
       "      <td>3.7935</td>\n",
       "      <td>3.8365</td>\n",
       "      <td>3.8390</td>\n",
       "      <td>3.7860</td>\n",
       "      <td>36.27</td>\n",
       "      <td>-1.15</td>\n",
       "    </tr>\n",
       "  </tbody>\n",
       "</table>\n",
       "</div>"
      ],
      "text/plain": [
       "        Date   Price    Open    High     Low  Vol. in Thousands  \\\n",
       "0 2023-08-29  3.8022  3.7985  3.8083  3.7905                NaN   \n",
       "1 2023-08-28  3.7920  3.7950  3.8290  3.7800                NaN   \n",
       "2 2023-08-27  3.8027  3.7887  3.8057  3.7887                NaN   \n",
       "3 2023-08-25  3.7840  3.7890  3.8290  3.7655              44.88   \n",
       "4 2023-08-24  3.7935  3.8365  3.8390  3.7860              36.27   \n",
       "\n",
       "   Percentage Change  \n",
       "0               0.27  \n",
       "1              -0.28  \n",
       "2               0.49  \n",
       "3              -0.25  \n",
       "4              -1.15  "
      ]
     },
     "execution_count": 27,
     "metadata": {},
     "output_type": "execute_result"
    }
   ],
   "source": [
    "df.head()"
   ]
  },
  {
   "cell_type": "code",
   "execution_count": 28,
   "id": "0c610242",
   "metadata": {},
   "outputs": [
    {
     "data": {
      "text/html": [
       "<style>#sk-container-id-1 {color: black;background-color: white;}#sk-container-id-1 pre{padding: 0;}#sk-container-id-1 div.sk-toggleable {background-color: white;}#sk-container-id-1 label.sk-toggleable__label {cursor: pointer;display: block;width: 100%;margin-bottom: 0;padding: 0.3em;box-sizing: border-box;text-align: center;}#sk-container-id-1 label.sk-toggleable__label-arrow:before {content: \"▸\";float: left;margin-right: 0.25em;color: #696969;}#sk-container-id-1 label.sk-toggleable__label-arrow:hover:before {color: black;}#sk-container-id-1 div.sk-estimator:hover label.sk-toggleable__label-arrow:before {color: black;}#sk-container-id-1 div.sk-toggleable__content {max-height: 0;max-width: 0;overflow: hidden;text-align: left;background-color: #f0f8ff;}#sk-container-id-1 div.sk-toggleable__content pre {margin: 0.2em;color: black;border-radius: 0.25em;background-color: #f0f8ff;}#sk-container-id-1 input.sk-toggleable__control:checked~div.sk-toggleable__content {max-height: 200px;max-width: 100%;overflow: auto;}#sk-container-id-1 input.sk-toggleable__control:checked~label.sk-toggleable__label-arrow:before {content: \"▾\";}#sk-container-id-1 div.sk-estimator input.sk-toggleable__control:checked~label.sk-toggleable__label {background-color: #d4ebff;}#sk-container-id-1 div.sk-label input.sk-toggleable__control:checked~label.sk-toggleable__label {background-color: #d4ebff;}#sk-container-id-1 input.sk-hidden--visually {border: 0;clip: rect(1px 1px 1px 1px);clip: rect(1px, 1px, 1px, 1px);height: 1px;margin: -1px;overflow: hidden;padding: 0;position: absolute;width: 1px;}#sk-container-id-1 div.sk-estimator {font-family: monospace;background-color: #f0f8ff;border: 1px dotted black;border-radius: 0.25em;box-sizing: border-box;margin-bottom: 0.5em;}#sk-container-id-1 div.sk-estimator:hover {background-color: #d4ebff;}#sk-container-id-1 div.sk-parallel-item::after {content: \"\";width: 100%;border-bottom: 1px solid gray;flex-grow: 1;}#sk-container-id-1 div.sk-label:hover label.sk-toggleable__label {background-color: #d4ebff;}#sk-container-id-1 div.sk-serial::before {content: \"\";position: absolute;border-left: 1px solid gray;box-sizing: border-box;top: 0;bottom: 0;left: 50%;z-index: 0;}#sk-container-id-1 div.sk-serial {display: flex;flex-direction: column;align-items: center;background-color: white;padding-right: 0.2em;padding-left: 0.2em;position: relative;}#sk-container-id-1 div.sk-item {position: relative;z-index: 1;}#sk-container-id-1 div.sk-parallel {display: flex;align-items: stretch;justify-content: center;background-color: white;position: relative;}#sk-container-id-1 div.sk-item::before, #sk-container-id-1 div.sk-parallel-item::before {content: \"\";position: absolute;border-left: 1px solid gray;box-sizing: border-box;top: 0;bottom: 0;left: 50%;z-index: -1;}#sk-container-id-1 div.sk-parallel-item {display: flex;flex-direction: column;z-index: 1;position: relative;background-color: white;}#sk-container-id-1 div.sk-parallel-item:first-child::after {align-self: flex-end;width: 50%;}#sk-container-id-1 div.sk-parallel-item:last-child::after {align-self: flex-start;width: 50%;}#sk-container-id-1 div.sk-parallel-item:only-child::after {width: 0;}#sk-container-id-1 div.sk-dashed-wrapped {border: 1px dashed gray;margin: 0 0.4em 0.5em 0.4em;box-sizing: border-box;padding-bottom: 0.4em;background-color: white;}#sk-container-id-1 div.sk-label label {font-family: monospace;font-weight: bold;display: inline-block;line-height: 1.2em;}#sk-container-id-1 div.sk-label-container {text-align: center;}#sk-container-id-1 div.sk-container {/* jupyter's `normalize.less` sets `[hidden] { display: none; }` but bootstrap.min.css set `[hidden] { display: none !important; }` so we also need the `!important` here to be able to override the default hidden behavior on the sphinx rendered scikit-learn.org. See: https://github.com/scikit-learn/scikit-learn/issues/21755 */display: inline-block !important;position: relative;}#sk-container-id-1 div.sk-text-repr-fallback {display: none;}</style><div id=\"sk-container-id-1\" class=\"sk-top-container\"><div class=\"sk-text-repr-fallback\"><pre>IterativeImputer(random_state=0)</pre><b>In a Jupyter environment, please rerun this cell to show the HTML representation or trust the notebook. <br />On GitHub, the HTML representation is unable to render, please try loading this page with nbviewer.org.</b></div><div class=\"sk-container\" hidden><div class=\"sk-item\"><div class=\"sk-estimator sk-toggleable\"><input class=\"sk-toggleable__control sk-hidden--visually\" id=\"sk-estimator-id-1\" type=\"checkbox\" checked><label for=\"sk-estimator-id-1\" class=\"sk-toggleable__label sk-toggleable__label-arrow\">IterativeImputer</label><div class=\"sk-toggleable__content\"><pre>IterativeImputer(random_state=0)</pre></div></div></div></div></div>"
      ],
      "text/plain": [
       "IterativeImputer(random_state=0)"
      ]
     },
     "execution_count": 28,
     "metadata": {},
     "output_type": "execute_result"
    }
   ],
   "source": [
    "imp = IterativeImputer(max_iter=10, random_state=0)\n",
    "imp.fit(df.iloc[:,1:])"
   ]
  },
  {
   "cell_type": "code",
   "execution_count": 29,
   "id": "08d51dc3",
   "metadata": {},
   "outputs": [
    {
     "data": {
      "text/plain": [
       "numpy.ndarray"
      ]
     },
     "execution_count": 29,
     "metadata": {},
     "output_type": "execute_result"
    }
   ],
   "source": [
    "arraynew = imp.transform(df.iloc[:,1:])\n",
    "#print(arraynew)\n",
    "type(arraynew)"
   ]
  },
  {
   "cell_type": "code",
   "execution_count": 30,
   "id": "2a25fc77",
   "metadata": {},
   "outputs": [],
   "source": [
    "dfnew = pd.DataFrame(arraynew, columns = ['Price','Open','High','Low','Vol. in Thousands','Percentage Change'])"
   ]
  },
  {
   "cell_type": "code",
   "execution_count": 31,
   "id": "578f619f",
   "metadata": {},
   "outputs": [
    {
     "data": {
      "text/html": [
       "<div>\n",
       "<style scoped>\n",
       "    .dataframe tbody tr th:only-of-type {\n",
       "        vertical-align: middle;\n",
       "    }\n",
       "\n",
       "    .dataframe tbody tr th {\n",
       "        vertical-align: top;\n",
       "    }\n",
       "\n",
       "    .dataframe thead th {\n",
       "        text-align: right;\n",
       "    }\n",
       "</style>\n",
       "<table border=\"1\" class=\"dataframe\">\n",
       "  <thead>\n",
       "    <tr style=\"text-align: right;\">\n",
       "      <th></th>\n",
       "      <th>Price</th>\n",
       "      <th>Open</th>\n",
       "      <th>High</th>\n",
       "      <th>Low</th>\n",
       "      <th>Vol. in Thousands</th>\n",
       "      <th>Percentage Change</th>\n",
       "    </tr>\n",
       "  </thead>\n",
       "  <tbody>\n",
       "    <tr>\n",
       "      <th>0</th>\n",
       "      <td>3.8022</td>\n",
       "      <td>3.7985</td>\n",
       "      <td>3.8083</td>\n",
       "      <td>3.7905</td>\n",
       "      <td>74.212079</td>\n",
       "      <td>0.27</td>\n",
       "    </tr>\n",
       "    <tr>\n",
       "      <th>1</th>\n",
       "      <td>3.7920</td>\n",
       "      <td>3.7950</td>\n",
       "      <td>3.8290</td>\n",
       "      <td>3.7800</td>\n",
       "      <td>76.836941</td>\n",
       "      <td>-0.28</td>\n",
       "    </tr>\n",
       "    <tr>\n",
       "      <th>2</th>\n",
       "      <td>3.8027</td>\n",
       "      <td>3.7887</td>\n",
       "      <td>3.8057</td>\n",
       "      <td>3.7887</td>\n",
       "      <td>73.149638</td>\n",
       "      <td>0.49</td>\n",
       "    </tr>\n",
       "    <tr>\n",
       "      <th>3</th>\n",
       "      <td>3.7840</td>\n",
       "      <td>3.7890</td>\n",
       "      <td>3.8290</td>\n",
       "      <td>3.7655</td>\n",
       "      <td>44.880000</td>\n",
       "      <td>-0.25</td>\n",
       "    </tr>\n",
       "    <tr>\n",
       "      <th>4</th>\n",
       "      <td>3.7935</td>\n",
       "      <td>3.8365</td>\n",
       "      <td>3.8390</td>\n",
       "      <td>3.7860</td>\n",
       "      <td>36.270000</td>\n",
       "      <td>-1.15</td>\n",
       "    </tr>\n",
       "    <tr>\n",
       "      <th>5</th>\n",
       "      <td>3.8375</td>\n",
       "      <td>3.7900</td>\n",
       "      <td>3.8425</td>\n",
       "      <td>3.7885</td>\n",
       "      <td>42.180000</td>\n",
       "      <td>1.29</td>\n",
       "    </tr>\n",
       "    <tr>\n",
       "      <th>6</th>\n",
       "      <td>3.7885</td>\n",
       "      <td>3.7565</td>\n",
       "      <td>3.8095</td>\n",
       "      <td>3.7515</td>\n",
       "      <td>42.540000</td>\n",
       "      <td>1.88</td>\n",
       "    </tr>\n",
       "    <tr>\n",
       "      <th>7</th>\n",
       "      <td>3.7185</td>\n",
       "      <td>3.7160</td>\n",
       "      <td>3.7305</td>\n",
       "      <td>3.6845</td>\n",
       "      <td>59.300000</td>\n",
       "      <td>0.34</td>\n",
       "    </tr>\n",
       "    <tr>\n",
       "      <th>8</th>\n",
       "      <td>3.7060</td>\n",
       "      <td>3.6880</td>\n",
       "      <td>3.7215</td>\n",
       "      <td>3.6645</td>\n",
       "      <td>54.520000</td>\n",
       "      <td>0.39</td>\n",
       "    </tr>\n",
       "    <tr>\n",
       "      <th>9</th>\n",
       "      <td>3.6915</td>\n",
       "      <td>3.6475</td>\n",
       "      <td>3.7195</td>\n",
       "      <td>3.6270</td>\n",
       "      <td>73.410000</td>\n",
       "      <td>0.93</td>\n",
       "    </tr>\n",
       "  </tbody>\n",
       "</table>\n",
       "</div>"
      ],
      "text/plain": [
       "    Price    Open    High     Low  Vol. in Thousands  Percentage Change\n",
       "0  3.8022  3.7985  3.8083  3.7905          74.212079               0.27\n",
       "1  3.7920  3.7950  3.8290  3.7800          76.836941              -0.28\n",
       "2  3.8027  3.7887  3.8057  3.7887          73.149638               0.49\n",
       "3  3.7840  3.7890  3.8290  3.7655          44.880000              -0.25\n",
       "4  3.7935  3.8365  3.8390  3.7860          36.270000              -1.15\n",
       "5  3.8375  3.7900  3.8425  3.7885          42.180000               1.29\n",
       "6  3.7885  3.7565  3.8095  3.7515          42.540000               1.88\n",
       "7  3.7185  3.7160  3.7305  3.6845          59.300000               0.34\n",
       "8  3.7060  3.6880  3.7215  3.6645          54.520000               0.39\n",
       "9  3.6915  3.6475  3.7195  3.6270          73.410000               0.93"
      ]
     },
     "execution_count": 31,
     "metadata": {},
     "output_type": "execute_result"
    }
   ],
   "source": [
    "dfnew.head(10)  #new dataframe with duplicates and nulls handled"
   ]
  },
  {
   "cell_type": "code",
   "execution_count": 32,
   "id": "153e4e09",
   "metadata": {},
   "outputs": [],
   "source": [
    "#add date column to get the original df but with null values handled\n",
    "dfnew['Date'] = df['Date']"
   ]
  },
  {
   "cell_type": "code",
   "execution_count": 33,
   "id": "4f31aa90",
   "metadata": {},
   "outputs": [
    {
     "data": {
      "text/html": [
       "<div>\n",
       "<style scoped>\n",
       "    .dataframe tbody tr th:only-of-type {\n",
       "        vertical-align: middle;\n",
       "    }\n",
       "\n",
       "    .dataframe tbody tr th {\n",
       "        vertical-align: top;\n",
       "    }\n",
       "\n",
       "    .dataframe thead th {\n",
       "        text-align: right;\n",
       "    }\n",
       "</style>\n",
       "<table border=\"1\" class=\"dataframe\">\n",
       "  <thead>\n",
       "    <tr style=\"text-align: right;\">\n",
       "      <th></th>\n",
       "      <th>Price</th>\n",
       "      <th>Open</th>\n",
       "      <th>High</th>\n",
       "      <th>Low</th>\n",
       "      <th>Vol. in Thousands</th>\n",
       "      <th>Percentage Change</th>\n",
       "      <th>Date</th>\n",
       "    </tr>\n",
       "  </thead>\n",
       "  <tbody>\n",
       "    <tr>\n",
       "      <th>0</th>\n",
       "      <td>3.8022</td>\n",
       "      <td>3.7985</td>\n",
       "      <td>3.8083</td>\n",
       "      <td>3.7905</td>\n",
       "      <td>74.212079</td>\n",
       "      <td>0.27</td>\n",
       "      <td>2023-08-29</td>\n",
       "    </tr>\n",
       "    <tr>\n",
       "      <th>1</th>\n",
       "      <td>3.7920</td>\n",
       "      <td>3.7950</td>\n",
       "      <td>3.8290</td>\n",
       "      <td>3.7800</td>\n",
       "      <td>76.836941</td>\n",
       "      <td>-0.28</td>\n",
       "      <td>2023-08-28</td>\n",
       "    </tr>\n",
       "    <tr>\n",
       "      <th>2</th>\n",
       "      <td>3.8027</td>\n",
       "      <td>3.7887</td>\n",
       "      <td>3.8057</td>\n",
       "      <td>3.7887</td>\n",
       "      <td>73.149638</td>\n",
       "      <td>0.49</td>\n",
       "      <td>2023-08-27</td>\n",
       "    </tr>\n",
       "    <tr>\n",
       "      <th>3</th>\n",
       "      <td>3.7840</td>\n",
       "      <td>3.7890</td>\n",
       "      <td>3.8290</td>\n",
       "      <td>3.7655</td>\n",
       "      <td>44.880000</td>\n",
       "      <td>-0.25</td>\n",
       "      <td>2023-08-25</td>\n",
       "    </tr>\n",
       "    <tr>\n",
       "      <th>4</th>\n",
       "      <td>3.7935</td>\n",
       "      <td>3.8365</td>\n",
       "      <td>3.8390</td>\n",
       "      <td>3.7860</td>\n",
       "      <td>36.270000</td>\n",
       "      <td>-1.15</td>\n",
       "      <td>2023-08-24</td>\n",
       "    </tr>\n",
       "  </tbody>\n",
       "</table>\n",
       "</div>"
      ],
      "text/plain": [
       "    Price    Open    High     Low  Vol. in Thousands  Percentage Change  \\\n",
       "0  3.8022  3.7985  3.8083  3.7905          74.212079               0.27   \n",
       "1  3.7920  3.7950  3.8290  3.7800          76.836941              -0.28   \n",
       "2  3.8027  3.7887  3.8057  3.7887          73.149638               0.49   \n",
       "3  3.7840  3.7890  3.8290  3.7655          44.880000              -0.25   \n",
       "4  3.7935  3.8365  3.8390  3.7860          36.270000              -1.15   \n",
       "\n",
       "        Date  \n",
       "0 2023-08-29  \n",
       "1 2023-08-28  \n",
       "2 2023-08-27  \n",
       "3 2023-08-25  \n",
       "4 2023-08-24  "
      ]
     },
     "execution_count": 33,
     "metadata": {},
     "output_type": "execute_result"
    }
   ],
   "source": [
    "dfnew.head()"
   ]
  },
  {
   "cell_type": "code",
   "execution_count": 34,
   "id": "683342b3",
   "metadata": {},
   "outputs": [
    {
     "data": {
      "text/html": [
       "<div>\n",
       "<style scoped>\n",
       "    .dataframe tbody tr th:only-of-type {\n",
       "        vertical-align: middle;\n",
       "    }\n",
       "\n",
       "    .dataframe tbody tr th {\n",
       "        vertical-align: top;\n",
       "    }\n",
       "\n",
       "    .dataframe thead th {\n",
       "        text-align: right;\n",
       "    }\n",
       "</style>\n",
       "<table border=\"1\" class=\"dataframe\">\n",
       "  <thead>\n",
       "    <tr style=\"text-align: right;\">\n",
       "      <th></th>\n",
       "      <th>Date</th>\n",
       "      <th>Price</th>\n",
       "      <th>Open</th>\n",
       "      <th>High</th>\n",
       "      <th>Low</th>\n",
       "      <th>Vol. in Thousands</th>\n",
       "      <th>Percentage Change</th>\n",
       "    </tr>\n",
       "  </thead>\n",
       "  <tbody>\n",
       "    <tr>\n",
       "      <th>0</th>\n",
       "      <td>2023-08-29</td>\n",
       "      <td>3.8022</td>\n",
       "      <td>3.7985</td>\n",
       "      <td>3.8083</td>\n",
       "      <td>3.7905</td>\n",
       "      <td>74.212079</td>\n",
       "      <td>0.27</td>\n",
       "    </tr>\n",
       "    <tr>\n",
       "      <th>1</th>\n",
       "      <td>2023-08-28</td>\n",
       "      <td>3.7920</td>\n",
       "      <td>3.7950</td>\n",
       "      <td>3.8290</td>\n",
       "      <td>3.7800</td>\n",
       "      <td>76.836941</td>\n",
       "      <td>-0.28</td>\n",
       "    </tr>\n",
       "    <tr>\n",
       "      <th>2</th>\n",
       "      <td>2023-08-27</td>\n",
       "      <td>3.8027</td>\n",
       "      <td>3.7887</td>\n",
       "      <td>3.8057</td>\n",
       "      <td>3.7887</td>\n",
       "      <td>73.149638</td>\n",
       "      <td>0.49</td>\n",
       "    </tr>\n",
       "    <tr>\n",
       "      <th>3</th>\n",
       "      <td>2023-08-25</td>\n",
       "      <td>3.7840</td>\n",
       "      <td>3.7890</td>\n",
       "      <td>3.8290</td>\n",
       "      <td>3.7655</td>\n",
       "      <td>44.880000</td>\n",
       "      <td>-0.25</td>\n",
       "    </tr>\n",
       "    <tr>\n",
       "      <th>4</th>\n",
       "      <td>2023-08-24</td>\n",
       "      <td>3.7935</td>\n",
       "      <td>3.8365</td>\n",
       "      <td>3.8390</td>\n",
       "      <td>3.7860</td>\n",
       "      <td>36.270000</td>\n",
       "      <td>-1.15</td>\n",
       "    </tr>\n",
       "  </tbody>\n",
       "</table>\n",
       "</div>"
      ],
      "text/plain": [
       "        Date   Price    Open    High     Low  Vol. in Thousands  \\\n",
       "0 2023-08-29  3.8022  3.7985  3.8083  3.7905          74.212079   \n",
       "1 2023-08-28  3.7920  3.7950  3.8290  3.7800          76.836941   \n",
       "2 2023-08-27  3.8027  3.7887  3.8057  3.7887          73.149638   \n",
       "3 2023-08-25  3.7840  3.7890  3.8290  3.7655          44.880000   \n",
       "4 2023-08-24  3.7935  3.8365  3.8390  3.7860          36.270000   \n",
       "\n",
       "   Percentage Change  \n",
       "0               0.27  \n",
       "1              -0.28  \n",
       "2               0.49  \n",
       "3              -0.25  \n",
       "4              -1.15  "
      ]
     },
     "execution_count": 34,
     "metadata": {},
     "output_type": "execute_result"
    }
   ],
   "source": [
    "#or we could replace Vol.in Thousands in df with the dfnew one\n",
    "df['Vol. in Thousands'] = dfnew['Vol. in Thousands']\n",
    "df.head()"
   ]
  },
  {
   "cell_type": "code",
   "execution_count": 35,
   "id": "db6f5662",
   "metadata": {},
   "outputs": [],
   "source": [
    "dfcolumns = df.columns\n",
    "#dfcolumns"
   ]
  },
  {
   "cell_type": "code",
   "execution_count": 36,
   "id": "d3d429cf",
   "metadata": {},
   "outputs": [
    {
     "data": {
      "text/plain": [
       "Date                 0\n",
       "Price                0\n",
       "Open                 0\n",
       "High                 0\n",
       "Low                  0\n",
       "Vol. in Thousands    0\n",
       "Percentage Change    0\n",
       "dtype: int64"
      ]
     },
     "execution_count": 36,
     "metadata": {},
     "output_type": "execute_result"
    }
   ],
   "source": [
    "df.isna().sum()   ##no null values"
   ]
  },
  {
   "cell_type": "code",
   "execution_count": 37,
   "id": "cad75a6b",
   "metadata": {},
   "outputs": [
    {
     "data": {
      "text/plain": [
       "Vol. in Thousands\n",
       "74.212079     1\n",
       "73.510000     1\n",
       "109.740000    1\n",
       "89.270000     1\n",
       "81.960000     1\n",
       "Name: count, dtype: int64"
      ]
     },
     "execution_count": 37,
     "metadata": {},
     "output_type": "execute_result"
    }
   ],
   "source": [
    "#check fill of df['Vol.']\n",
    "postfill = df['Vol. in Thousands'].value_counts()\n",
    "postfill.head()"
   ]
  },
  {
   "cell_type": "code",
   "execution_count": 38,
   "id": "2fe8407d",
   "metadata": {},
   "outputs": [
    {
     "name": "stdout",
     "output_type": "stream",
     "text": [
      "Date\n",
      "2023-08-29    1\n",
      "2023-08-14    1\n",
      "2023-08-01    1\n",
      "2023-08-02    1\n",
      "2023-08-03    1\n",
      "Name: count, dtype: int64\n",
      "_____________________________________\n",
      "Price\n",
      "3.8022    1\n",
      "3.7255    1\n",
      "3.9085    1\n",
      "3.8435    1\n",
      "3.8995    1\n",
      "Name: count, dtype: int64\n",
      "_____________________________________\n",
      "Open\n",
      "3.7985    1\n",
      "3.7185    1\n",
      "4.0155    1\n",
      "3.9100    1\n",
      "3.8445    1\n",
      "Name: count, dtype: int64\n",
      "_____________________________________\n",
      "High\n",
      "3.8290    2\n",
      "3.8083    1\n",
      "4.0240    1\n",
      "3.9210    1\n",
      "3.9040    1\n",
      "Name: count, dtype: int64\n",
      "_____________________________________\n",
      "Low\n",
      "3.7905    1\n",
      "3.6870    1\n",
      "3.9040    1\n",
      "3.8340    1\n",
      "3.8205    1\n",
      "Name: count, dtype: int64\n",
      "_____________________________________\n",
      "Vol. in Thousands\n",
      "74.212079     1\n",
      "73.510000     1\n",
      "109.740000    1\n",
      "89.270000     1\n",
      "81.960000     1\n",
      "Name: count, dtype: int64\n",
      "_____________________________________\n",
      "Percentage Change\n",
      " 0.27    1\n",
      " 0.17    1\n",
      "-2.48    1\n",
      "-1.66    1\n",
      " 1.46    1\n",
      "Name: count, dtype: int64\n",
      "_____________________________________\n"
     ]
    }
   ],
   "source": [
    "#print top 5 most frequent values of each column\n",
    "for i in range(len(dfcolumns)):\n",
    "    print(df[dfcolumns[i]].value_counts().head())\n",
    "    print(\"_____________________________________\")"
   ]
  },
  {
   "cell_type": "code",
   "execution_count": 39,
   "id": "ea45fe1a",
   "metadata": {},
   "outputs": [
    {
     "name": "stdout",
     "output_type": "stream",
     "text": [
      "4.008\n"
     ]
    },
    {
     "data": {
      "text/plain": [
       "<seaborn.axisgrid.FacetGrid at 0x1d69556ad90>"
      ]
     },
     "execution_count": 39,
     "metadata": {},
     "output_type": "execute_result"
    },
    {
     "data": {
      "image/png": "[encoded data removed]",
      "text/plain": [
       "<Figure size 500x500 with 1 Axes>"
      ]
     },
     "metadata": {},
     "output_type": "display_data"
    }
   ],
   "source": [
    "#count plot for values of Price ##Univariate\n",
    "print(df['Price'].max())\n",
    "sns.displot(df['Price'], color = 'blue')"
   ]
  },
  {
   "cell_type": "code",
   "execution_count": 40,
   "id": "c8d7c0ae",
   "metadata": {},
   "outputs": [
    {
     "data": {
      "text/plain": [
       "<Axes: >"
      ]
     },
     "execution_count": 40,
     "metadata": {},
     "output_type": "execute_result"
    },
    {
     "data": {
      "image/png": "[encoded data removed]",
      "text/plain": [
       "<Figure size 640x480 with 1 Axes>"
      ]
     },
     "metadata": {},
     "output_type": "display_data"
    }
   ],
   "source": [
    "#box plot to show range of values  ##Univariate  ##used to check for outliers\n",
    "sns.boxplot(df['Price'], color = 'yellow')"
   ]
  },
  {
   "cell_type": "code",
   "execution_count": 41,
   "id": "56688a40",
   "metadata": {},
   "outputs": [
    {
     "data": {
      "text/plain": [
       "<Axes: >"
      ]
     },
     "execution_count": 41,
     "metadata": {},
     "output_type": "execute_result"
    },
    {
     "data": {
      "image/png": "[encoded data removed]",
      "text/plain": [
       "<Figure size 640x480 with 1 Axes>"
      ]
     },
     "metadata": {},
     "output_type": "display_data"
    }
   ],
   "source": [
    "#box plot to show range of values  ##Univariate  ##used to check for outliers\n",
    "sns.boxplot(df['Open'], color = 'orange')\n",
    "##position of outlier\n",
    "##print(np.where((df['Price'] > 4) & (df['Open'] > 4)))"
   ]
  },
  {
   "cell_type": "code",
   "execution_count": 42,
   "id": "18875fe0",
   "metadata": {},
   "outputs": [
    {
     "data": {
      "text/plain": [
       "<Axes: >"
      ]
     },
     "execution_count": 42,
     "metadata": {},
     "output_type": "execute_result"
    },
    {
     "data": {
      "image/png": "[encoded data removed]",
      "text/plain": [
       "<Figure size 640x480 with 1 Axes>"
      ]
     },
     "metadata": {},
     "output_type": "display_data"
    }
   ],
   "source": [
    "#box plot to show range of values  ##Univariate  ##used to check for outliers\n",
    "sns.boxplot(df['High'], color = 'blue')"
   ]
  },
  {
   "cell_type": "code",
   "execution_count": 43,
   "id": "c44f8411",
   "metadata": {},
   "outputs": [
    {
     "data": {
      "text/plain": [
       "<Axes: >"
      ]
     },
     "execution_count": 43,
     "metadata": {},
     "output_type": "execute_result"
    },
    {
     "data": {
      "image/png": "[encoded data removed]",
      "text/plain": [
       "<Figure size 640x480 with 1 Axes>"
      ]
     },
     "metadata": {},
     "output_type": "display_data"
    }
   ],
   "source": [
    "#box plot to show range of values  ##Univariate  ##used to check for outliers\n",
    "sns.boxplot(df['Low'], color = 'red')"
   ]
  },
  {
   "cell_type": "code",
   "execution_count": 44,
   "id": "e54ccd51",
   "metadata": {},
   "outputs": [
    {
     "data": {
      "text/plain": [
       "<Axes: >"
      ]
     },
     "execution_count": 44,
     "metadata": {},
     "output_type": "execute_result"
    },
    {
     "data": {
      "image/png": "[encoded data removed]",
      "text/plain": [
       "<Figure size 640x480 with 1 Axes>"
      ]
     },
     "metadata": {},
     "output_type": "display_data"
    }
   ],
   "source": [
    "#box plot to show range of values  ##Univariate  ##used to check for outliers\n",
    "sns.boxplot(df['Vol. in Thousands'], color = 'pink')"
   ]
  },
  {
   "cell_type": "code",
   "execution_count": 45,
   "id": "a138c3d9",
   "metadata": {},
   "outputs": [
    {
     "data": {
      "text/plain": [
       "<Axes: >"
      ]
     },
     "execution_count": 45,
     "metadata": {},
     "output_type": "execute_result"
    },
    {
     "data": {
      "image/png": "[encoded data removed]",
      "text/plain": [
       "<Figure size 640x480 with 1 Axes>"
      ]
     },
     "metadata": {},
     "output_type": "display_data"
    }
   ],
   "source": [
    "#box plot to show range of values  ##Univariate  ##used to check for outliers\n",
    "sns.boxplot(df['Percentage Change'], color = 'pink')"
   ]
  },
  {
   "cell_type": "code",
   "execution_count": 46,
   "id": "3b58f648",
   "metadata": {},
   "outputs": [
    {
     "data": {
      "text/plain": [
       "<Axes: >"
      ]
     },
     "execution_count": 46,
     "metadata": {},
     "output_type": "execute_result"
    },
    {
     "data": {
      "image/png": "[encoded data removed]",
      "text/plain": [
       "<Figure size 640x480 with 2 Axes>"
      ]
     },
     "metadata": {},
     "output_type": "display_data"
    }
   ],
   "source": [
    "#plot correlation between all columns except date column\n",
    "correlation = df.iloc[:,1:].corr()\n",
    "corrgraph= sns.heatmap(correlation, xticklabels = correlation.columns, yticklabels = correlation.columns)\n",
    "corrgraph"
   ]
  },
  {
   "cell_type": "code",
   "execution_count": 47,
   "id": "8c747bfd",
   "metadata": {},
   "outputs": [
    {
     "name": "stdout",
     "output_type": "stream",
     "text": [
      "IQR: 0.1014999999999997\n",
      "Lower bound: 3.6060000000000008\n",
      "Upper bound: 4.012\n"
     ]
    }
   ],
   "source": [
    "#scaling and checking for outliers\n",
    "#use Standard Scaler to reduce potential dimensionality\n",
    "#use IQR rather than Discretisation since dataset include time-series data\n",
    "#also upper and lower bound of data are set\n",
    "#start with 'High' since it has the largest amount of outliers and because it is highy correlated with 'Price'\n",
    "Q_1 = df['High'].quantile(0.25)\n",
    "Q_3 = df['High'].quantile(0.75)\n",
    "IQR = Q_3 - Q_1\n",
    "lowerbound = Q_1 - (1.5 * IQR)\n",
    "upperbound = Q_3 + (1.5 * IQR)\n",
    "print('IQR:', IQR)\n",
    "print('Lower bound:', lowerbound)\n",
    "print('Upper bound:', upperbound)"
   ]
  },
  {
   "cell_type": "code",
   "execution_count": 48,
   "id": "33811615",
   "metadata": {},
   "outputs": [
    {
     "name": "stdout",
     "output_type": "stream",
     "text": [
      "[21 22]\n",
      "[]\n"
     ]
    }
   ],
   "source": [
    "upperarray = np.where(df['High'] >= upperbound)[0]  #index shows only the values\n",
    "lowerarray = np.where(df['High'] <= lowerbound)[0]\n",
    "print(upperarray)\n",
    "print(lowerarray)"
   ]
  },
  {
   "cell_type": "code",
   "execution_count": 49,
   "id": "275391d2",
   "metadata": {},
   "outputs": [],
   "source": [
    "# Removing the outliers\n",
    "df.drop(index=upperarray, inplace=True)\n",
    "df.drop(index=lowerarray, inplace=True)"
   ]
  },
  {
   "cell_type": "code",
   "execution_count": 50,
   "id": "5f06345a",
   "metadata": {
    "scrolled": false
   },
   "outputs": [
    {
     "data": {
      "text/html": [
       "<div>\n",
       "<style scoped>\n",
       "    .dataframe tbody tr th:only-of-type {\n",
       "        vertical-align: middle;\n",
       "    }\n",
       "\n",
       "    .dataframe tbody tr th {\n",
       "        vertical-align: top;\n",
       "    }\n",
       "\n",
       "    .dataframe thead th {\n",
       "        text-align: right;\n",
       "    }\n",
       "</style>\n",
       "<table border=\"1\" class=\"dataframe\">\n",
       "  <thead>\n",
       "    <tr style=\"text-align: right;\">\n",
       "      <th></th>\n",
       "      <th>Date</th>\n",
       "      <th>Price</th>\n",
       "      <th>Open</th>\n",
       "      <th>High</th>\n",
       "      <th>Low</th>\n",
       "      <th>Vol. in Thousands</th>\n",
       "      <th>Percentage Change</th>\n",
       "    </tr>\n",
       "  </thead>\n",
       "  <tbody>\n",
       "    <tr>\n",
       "      <th>16</th>\n",
       "      <td>2023-08-08</td>\n",
       "      <td>3.7665</td>\n",
       "      <td>3.8420</td>\n",
       "      <td>3.842</td>\n",
       "      <td>3.7265</td>\n",
       "      <td>138.60</td>\n",
       "      <td>-1.79</td>\n",
       "    </tr>\n",
       "    <tr>\n",
       "      <th>17</th>\n",
       "      <td>2023-08-07</td>\n",
       "      <td>3.8350</td>\n",
       "      <td>3.8520</td>\n",
       "      <td>3.877</td>\n",
       "      <td>3.8250</td>\n",
       "      <td>70.87</td>\n",
       "      <td>-0.84</td>\n",
       "    </tr>\n",
       "    <tr>\n",
       "      <th>18</th>\n",
       "      <td>2023-08-04</td>\n",
       "      <td>3.8675</td>\n",
       "      <td>3.8995</td>\n",
       "      <td>3.928</td>\n",
       "      <td>3.8255</td>\n",
       "      <td>79.91</td>\n",
       "      <td>-0.82</td>\n",
       "    </tr>\n",
       "    <tr>\n",
       "      <th>19</th>\n",
       "      <td>2023-08-03</td>\n",
       "      <td>3.8995</td>\n",
       "      <td>3.8445</td>\n",
       "      <td>3.904</td>\n",
       "      <td>3.8205</td>\n",
       "      <td>81.96</td>\n",
       "      <td>1.46</td>\n",
       "    </tr>\n",
       "    <tr>\n",
       "      <th>20</th>\n",
       "      <td>2023-08-02</td>\n",
       "      <td>3.8435</td>\n",
       "      <td>3.9100</td>\n",
       "      <td>3.921</td>\n",
       "      <td>3.8340</td>\n",
       "      <td>89.27</td>\n",
       "      <td>-1.66</td>\n",
       "    </tr>\n",
       "  </tbody>\n",
       "</table>\n",
       "</div>"
      ],
      "text/plain": [
       "         Date   Price    Open   High     Low  Vol. in Thousands  \\\n",
       "16 2023-08-08  3.7665  3.8420  3.842  3.7265             138.60   \n",
       "17 2023-08-07  3.8350  3.8520  3.877  3.8250              70.87   \n",
       "18 2023-08-04  3.8675  3.8995  3.928  3.8255              79.91   \n",
       "19 2023-08-03  3.8995  3.8445  3.904  3.8205              81.96   \n",
       "20 2023-08-02  3.8435  3.9100  3.921  3.8340              89.27   \n",
       "\n",
       "    Percentage Change  \n",
       "16              -1.79  \n",
       "17              -0.84  \n",
       "18              -0.82  \n",
       "19               1.46  \n",
       "20              -1.66  "
      ]
     },
     "execution_count": 50,
     "metadata": {},
     "output_type": "execute_result"
    }
   ],
   "source": [
    "df.tail()"
   ]
  },
  {
   "cell_type": "code",
   "execution_count": 51,
   "id": "3809f036",
   "metadata": {},
   "outputs": [
    {
     "data": {
      "text/plain": [
       "<Axes: >"
      ]
     },
     "execution_count": 51,
     "metadata": {},
     "output_type": "execute_result"
    },
    {
     "data": {
      "image/png": "[encoded data removed]",
      "text/plain": [
       "<Figure size 640x480 with 1 Axes>"
      ]
     },
     "metadata": {},
     "output_type": "display_data"
    }
   ],
   "source": [
    "#Check outliers with less correlation with required variable which is Price\n",
    "sns.boxplot(df['Vol. in Thousands'], color = 'pink')"
   ]
  },
  {
   "cell_type": "code",
   "execution_count": 52,
   "id": "2ad6a575",
   "metadata": {},
   "outputs": [],
   "source": [
    "#trials with Low, Price, High, Open\n",
    "#ax1 = sns.boxplot(df['Low'], color = 'yellow')"
   ]
  },
  {
   "cell_type": "code",
   "execution_count": 53,
   "id": "c7597d2f",
   "metadata": {},
   "outputs": [],
   "source": [
    "#ax2 = sns.boxplot(df['Price'], color = 'yellow')"
   ]
  },
  {
   "cell_type": "code",
   "execution_count": 54,
   "id": "19e6ce3b",
   "metadata": {},
   "outputs": [],
   "source": [
    "#ax3 = sns.boxplot(df['High'], color = 'yellow')"
   ]
  },
  {
   "cell_type": "code",
   "execution_count": 55,
   "id": "f38498f2",
   "metadata": {},
   "outputs": [],
   "source": [
    "#ax4 = sns.boxplot(df['Open'], color = 'yellow')"
   ]
  },
  {
   "cell_type": "code",
   "execution_count": 56,
   "id": "435b7b8f",
   "metadata": {},
   "outputs": [
    {
     "name": "stdout",
     "output_type": "stream",
     "text": [
      "IQR: 22.659999999999997\n",
      "Lower bound: 25.310000000000002\n",
      "Upper bound: 115.94999999999999\n"
     ]
    }
   ],
   "source": [
    "##one outlier is left\n",
    "#IQR trial with lower correlation column has failed\n",
    "Q_11 = df['Vol. in Thousands'].quantile(0.25)\n",
    "Q_31 = df['Vol. in Thousands'].quantile(0.75)\n",
    "IQR1 = Q_31 - Q_11\n",
    "lowerbound1 = Q_11 - (1.5 * IQR1)\n",
    "upperbound1 = Q_31 + (1.5 * IQR1)\n",
    "print('IQR:', IQR1)\n",
    "print('Lower bound:', lowerbound1)\n",
    "print('Upper bound:', upperbound1)"
   ]
  },
  {
   "cell_type": "code",
   "execution_count": 57,
   "id": "b80ff435",
   "metadata": {},
   "outputs": [
    {
     "name": "stdout",
     "output_type": "stream",
     "text": [
      "[ 0  1  2  3  4  5  6  7  8  9 10 11 12 13 14 15 16 17 18 19 20]\n",
      "[]\n"
     ]
    }
   ],
   "source": [
    "upperarray1 = np.where(df['Vol. in Thousands'] >= upperbound)[0]  #indices that shall be removed\n",
    "lowerarray1 = np.where(df['Vol. in Thousands'] <= lowerbound)[0]\n",
    "print(upperarray1)\n",
    "print(lowerarray1)\n",
    "#IQR has failed and instead we will just locate the outlier from the boxplot and remove it"
   ]
  },
  {
   "cell_type": "code",
   "execution_count": 58,
   "id": "4696dcaa",
   "metadata": {},
   "outputs": [],
   "source": [
    "lowcorr = np.where(df['Vol. in Thousands'] > 120)[0]\n",
    "df.drop(index=lowcorr, inplace=True)"
   ]
  },
  {
   "cell_type": "code",
   "execution_count": 59,
   "id": "c970318e",
   "metadata": {},
   "outputs": [
    {
     "data": {
      "text/plain": [
       "(20, 7)"
      ]
     },
     "execution_count": 59,
     "metadata": {},
     "output_type": "execute_result"
    }
   ],
   "source": [
    "#df.tail(10) #index 16 is removed\n",
    "#new shape\n",
    "df.shape"
   ]
  },
  {
   "cell_type": "code",
   "execution_count": 60,
   "id": "1ab19718",
   "metadata": {},
   "outputs": [],
   "source": [
    "#scaling\n",
    "import sklearn\n",
    "from sklearn.manifold import TSNE\n",
    "from sklearn.preprocessing import StandardScaler"
   ]
  },
  {
   "cell_type": "code",
   "execution_count": 61,
   "id": "eb20ecff",
   "metadata": {},
   "outputs": [],
   "source": [
    "dfx =  df.drop(['Price','Date'], axis=1)\n",
    "#dfx.head()"
   ]
  },
  {
   "cell_type": "code",
   "execution_count": 62,
   "id": "ce00d01e",
   "metadata": {
    "scrolled": true
   },
   "outputs": [
    {
     "data": {
      "text/html": [
       "<div>\n",
       "<style scoped>\n",
       "    .dataframe tbody tr th:only-of-type {\n",
       "        vertical-align: middle;\n",
       "    }\n",
       "\n",
       "    .dataframe tbody tr th {\n",
       "        vertical-align: top;\n",
       "    }\n",
       "\n",
       "    .dataframe thead th {\n",
       "        text-align: right;\n",
       "    }\n",
       "</style>\n",
       "<table border=\"1\" class=\"dataframe\">\n",
       "  <thead>\n",
       "    <tr style=\"text-align: right;\">\n",
       "      <th></th>\n",
       "      <th>Open</th>\n",
       "      <th>High</th>\n",
       "      <th>Low</th>\n",
       "      <th>Vol. in Thousands</th>\n",
       "      <th>Percentage Change</th>\n",
       "    </tr>\n",
       "  </thead>\n",
       "  <tbody>\n",
       "    <tr>\n",
       "      <th>0</th>\n",
       "      <td>3.7985</td>\n",
       "      <td>3.8083</td>\n",
       "      <td>3.7905</td>\n",
       "      <td>74.212079</td>\n",
       "      <td>0.27</td>\n",
       "    </tr>\n",
       "    <tr>\n",
       "      <th>1</th>\n",
       "      <td>3.7950</td>\n",
       "      <td>3.8290</td>\n",
       "      <td>3.7800</td>\n",
       "      <td>76.836941</td>\n",
       "      <td>-0.28</td>\n",
       "    </tr>\n",
       "    <tr>\n",
       "      <th>2</th>\n",
       "      <td>3.7887</td>\n",
       "      <td>3.8057</td>\n",
       "      <td>3.7887</td>\n",
       "      <td>73.149638</td>\n",
       "      <td>0.49</td>\n",
       "    </tr>\n",
       "    <tr>\n",
       "      <th>3</th>\n",
       "      <td>3.7890</td>\n",
       "      <td>3.8290</td>\n",
       "      <td>3.7655</td>\n",
       "      <td>44.880000</td>\n",
       "      <td>-0.25</td>\n",
       "    </tr>\n",
       "    <tr>\n",
       "      <th>4</th>\n",
       "      <td>3.8365</td>\n",
       "      <td>3.8390</td>\n",
       "      <td>3.7860</td>\n",
       "      <td>36.270000</td>\n",
       "      <td>-1.15</td>\n",
       "    </tr>\n",
       "  </tbody>\n",
       "</table>\n",
       "</div>"
      ],
      "text/plain": [
       "     Open    High     Low  Vol. in Thousands  Percentage Change\n",
       "0  3.7985  3.8083  3.7905          74.212079               0.27\n",
       "1  3.7950  3.8290  3.7800          76.836941              -0.28\n",
       "2  3.7887  3.8057  3.7887          73.149638               0.49\n",
       "3  3.7890  3.8290  3.7655          44.880000              -0.25\n",
       "4  3.8365  3.8390  3.7860          36.270000              -1.15"
      ]
     },
     "execution_count": 62,
     "metadata": {},
     "output_type": "execute_result"
    }
   ],
   "source": [
    "x = StandardScaler()\n",
    " \n",
    "xscaled = x.fit_transform(dfx.to_numpy())\n",
    "dfxscaled = pd.DataFrame(dfx, columns=dfx.columns)\n",
    " \n",
    "dfxscaled.head()"
   ]
  },
  {
   "cell_type": "code",
   "execution_count": 63,
   "id": "8460d5bd",
   "metadata": {},
   "outputs": [
    {
     "name": "stdout",
     "output_type": "stream",
     "text": [
      "Price z score:\n",
      " 0     0.433454\n",
      "1     0.276701\n",
      "2     0.441138\n",
      "3     0.153757\n",
      "4     0.299753\n",
      "5     0.975944\n",
      "6     0.222913\n",
      "7    -0.852847\n",
      "8    -1.044946\n",
      "9    -1.267782\n",
      "10   -1.790294\n",
      "11   -1.636614\n",
      "12   -0.745271\n",
      "13   -0.845163\n",
      "14   -0.138235\n",
      "15    0.146073\n",
      "17    0.937524\n",
      "18    1.436984\n",
      "19    1.928760\n",
      "20    1.068152\n",
      "Name: Price, dtype: float64\n"
     ]
    }
   ],
   "source": [
    "#try z score to check high correlation, low correlation and predicted column\n",
    "pricezscore = (df['Price'] - np.mean(df['Price'])) / np.std(df['Price'])\n",
    "print('Price z score:\\n',pricezscore)\n",
    "highzscore = (df['High'] - np.mean(df['High'])) / np.std(df['High'])\n",
    "#print('High z score:\\n', highzscore)\n",
    "volzscore = (df['Vol. in Thousands'] - np.mean(df['Vol. in Thousands'])) / np.std(df['Vol. in Thousands'])\n",
    "#print('Volume z score:\\n', volzscore)"
   ]
  },
  {
   "cell_type": "markdown",
   "id": "61a19985",
   "metadata": {},
   "source": [
    "## Feature Selection and Visualisation"
   ]
  },
  {
   "cell_type": "code",
   "execution_count": 64,
   "id": "a4b0362d",
   "metadata": {},
   "outputs": [
    {
     "name": "stdout",
     "output_type": "stream",
     "text": [
      "          High     Low    Open\n",
      "Price                         \n",
      "3.6575  3.6940  3.6420  3.6600\n",
      "3.6675  3.7490  3.6560  3.7270\n",
      "3.6915  3.7195  3.6270  3.6475\n",
      "3.7060  3.7215  3.6645  3.6880\n",
      "3.7185  3.7305  3.6845  3.7160\n",
      "3.7190  3.7675  3.6950  3.7550\n",
      "3.7255  3.7420  3.6870  3.7185\n",
      "3.7650  3.8315  3.7465  3.7875\n",
      "3.7835  3.8270  3.7635  3.7795\n",
      "3.7840  3.8290  3.7655  3.7890\n",
      "3.7885  3.8095  3.7515  3.7565\n",
      "3.7920  3.8290  3.7800  3.7950\n",
      "3.7935  3.8390  3.7860  3.8365\n",
      "3.8022  3.8083  3.7905  3.7985\n",
      "3.8027  3.8057  3.7887  3.7887\n",
      "3.8350  3.8770  3.8250  3.8520\n",
      "3.8375  3.8425  3.7885  3.7900\n",
      "3.8435  3.9210  3.8340  3.9100\n",
      "3.8675  3.9280  3.8255  3.8995\n",
      "3.8995  3.9040  3.8205  3.8445\n"
     ]
    },
    {
     "data": {
      "text/plain": [
       "<Axes: xlabel='Price'>"
      ]
     },
     "execution_count": 64,
     "metadata": {},
     "output_type": "execute_result"
    },
    {
     "data": {
      "image/png": "[encoded data removed]",
      "text/plain": [
       "<Figure size 1000x500 with 1 Axes>"
      ]
     },
     "metadata": {},
     "output_type": "display_data"
    }
   ],
   "source": [
    "#pivot tables of numerical features with high correlation\n",
    "dfpivotmean = df.pivot_table(values = ['Open', 'High', 'Low'], index = 'Price', aggfunc = np.mean)\n",
    "print(dfpivotmean)\n",
    "dfpivotmean.plot(kind = 'bar', color = {'Open':'orange', 'High':'red', 'Low':'blue'}, fontsize = 10, figsize=(10,5))"
   ]
  },
  {
   "cell_type": "code",
   "execution_count": 65,
   "id": "b2d4a7db",
   "metadata": {},
   "outputs": [
    {
     "data": {
      "image/png": "[encoded data removed]",
      "text/plain": [
       "<Figure size 500x500 with 1 Axes>"
      ]
     },
     "metadata": {},
     "output_type": "display_data"
    }
   ],
   "source": [
    "#plot scatter graphs of each high correlation variable\n",
    "ax0 = df.plot(kind = 'scatter', x = 'Open', y = 'Price', color = 'blue', fontsize = 10, figsize = (5, 5))\n",
    "plt.show()"
   ]
  },
  {
   "cell_type": "code",
   "execution_count": 66,
   "id": "16b0b55a",
   "metadata": {
    "scrolled": false
   },
   "outputs": [
    {
     "data": {
      "image/png": "[encoded data removed]",
      "text/plain": [
       "<Figure size 500x500 with 1 Axes>"
      ]
     },
     "metadata": {},
     "output_type": "display_data"
    }
   ],
   "source": [
    "ax1 = df.plot(kind = 'scatter', x = 'High', y = 'Price', color = 'blue', fontsize = 10, figsize = (5, 5))\n",
    "plt.show()"
   ]
  },
  {
   "cell_type": "code",
   "execution_count": 494,
   "id": "f28439ce",
   "metadata": {},
   "outputs": [
    {
     "data": {
      "image/png": "[encoded data removed]",
      "text/plain": [
       "<Figure size 500x500 with 1 Axes>"
      ]
     },
     "metadata": {},
     "output_type": "display_data"
    }
   ],
   "source": [
    "df.plot(kind = 'scatter', x = 'Low', y = 'Price', color = 'blue', fontsize = 10, figsize = (5, 5))\n",
    "plt.show()"
   ]
  },
  {
   "cell_type": "code",
   "execution_count": 68,
   "id": "54d7554c",
   "metadata": {},
   "outputs": [
    {
     "data": {
      "text/html": [
       "<div>\n",
       "<style scoped>\n",
       "    .dataframe tbody tr th:only-of-type {\n",
       "        vertical-align: middle;\n",
       "    }\n",
       "\n",
       "    .dataframe tbody tr th {\n",
       "        vertical-align: top;\n",
       "    }\n",
       "\n",
       "    .dataframe thead th {\n",
       "        text-align: right;\n",
       "    }\n",
       "</style>\n",
       "<table border=\"1\" class=\"dataframe\">\n",
       "  <thead>\n",
       "    <tr style=\"text-align: right;\">\n",
       "      <th></th>\n",
       "      <th>Date</th>\n",
       "      <th>Price</th>\n",
       "      <th>Open</th>\n",
       "      <th>High</th>\n",
       "      <th>Low</th>\n",
       "      <th>Vol. in Thousands</th>\n",
       "      <th>Percentage Change</th>\n",
       "    </tr>\n",
       "  </thead>\n",
       "  <tbody>\n",
       "    <tr>\n",
       "      <th>0</th>\n",
       "      <td>2023-08-29</td>\n",
       "      <td>3.8022</td>\n",
       "      <td>3.7985</td>\n",
       "      <td>3.8083</td>\n",
       "      <td>3.7905</td>\n",
       "      <td>74.212079</td>\n",
       "      <td>0.27</td>\n",
       "    </tr>\n",
       "    <tr>\n",
       "      <th>1</th>\n",
       "      <td>2023-08-28</td>\n",
       "      <td>3.7920</td>\n",
       "      <td>3.7950</td>\n",
       "      <td>3.8290</td>\n",
       "      <td>3.7800</td>\n",
       "      <td>76.836941</td>\n",
       "      <td>-0.28</td>\n",
       "    </tr>\n",
       "    <tr>\n",
       "      <th>2</th>\n",
       "      <td>2023-08-27</td>\n",
       "      <td>3.8027</td>\n",
       "      <td>3.7887</td>\n",
       "      <td>3.8057</td>\n",
       "      <td>3.7887</td>\n",
       "      <td>73.149638</td>\n",
       "      <td>0.49</td>\n",
       "    </tr>\n",
       "    <tr>\n",
       "      <th>3</th>\n",
       "      <td>2023-08-25</td>\n",
       "      <td>3.7840</td>\n",
       "      <td>3.7890</td>\n",
       "      <td>3.8290</td>\n",
       "      <td>3.7655</td>\n",
       "      <td>44.880000</td>\n",
       "      <td>-0.25</td>\n",
       "    </tr>\n",
       "    <tr>\n",
       "      <th>4</th>\n",
       "      <td>2023-08-24</td>\n",
       "      <td>3.7935</td>\n",
       "      <td>3.8365</td>\n",
       "      <td>3.8390</td>\n",
       "      <td>3.7860</td>\n",
       "      <td>36.270000</td>\n",
       "      <td>-1.15</td>\n",
       "    </tr>\n",
       "  </tbody>\n",
       "</table>\n",
       "</div>"
      ],
      "text/plain": [
       "        Date   Price    Open    High     Low  Vol. in Thousands  \\\n",
       "0 2023-08-29  3.8022  3.7985  3.8083  3.7905          74.212079   \n",
       "1 2023-08-28  3.7920  3.7950  3.8290  3.7800          76.836941   \n",
       "2 2023-08-27  3.8027  3.7887  3.8057  3.7887          73.149638   \n",
       "3 2023-08-25  3.7840  3.7890  3.8290  3.7655          44.880000   \n",
       "4 2023-08-24  3.7935  3.8365  3.8390  3.7860          36.270000   \n",
       "\n",
       "   Percentage Change  \n",
       "0               0.27  \n",
       "1              -0.28  \n",
       "2               0.49  \n",
       "3              -0.25  \n",
       "4              -1.15  "
      ]
     },
     "execution_count": 68,
     "metadata": {},
     "output_type": "execute_result"
    }
   ],
   "source": [
    "df.head()"
   ]
  },
  {
   "cell_type": "code",
   "execution_count": 69,
   "id": "f87fb6e1",
   "metadata": {},
   "outputs": [
    {
     "name": "stdout",
     "output_type": "stream",
     "text": [
      "['Date', 'Price', 'Open', 'High', 'Low', 'Vol. in Thousands', 'Percentage Change']\n",
      "___________________________\n",
      "\n",
      "[]\n"
     ]
    }
   ],
   "source": [
    "#df.head()\n",
    "#types after null handling\n",
    "df_n, df_c = types(df)\n",
    "print(df_n)\n",
    "print('___________________________\\n')\n",
    "print(df_c)"
   ]
  },
  {
   "cell_type": "code",
   "execution_count": 70,
   "id": "77a86de2",
   "metadata": {},
   "outputs": [
    {
     "data": {
      "text/plain": [
       "['Price', 'Open', 'High', 'Low', 'Vol. in Thousands']"
      ]
     },
     "execution_count": 70,
     "metadata": {},
     "output_type": "execute_result"
    }
   ],
   "source": [
    "df_n[1:-1]"
   ]
  },
  {
   "cell_type": "code",
   "execution_count": 71,
   "id": "cf2891db",
   "metadata": {
    "scrolled": false
   },
   "outputs": [
    {
     "data": {
      "text/plain": [
       "<seaborn.axisgrid.PairGrid at 0x1d699aa4cd0>"
      ]
     },
     "execution_count": 71,
     "metadata": {},
     "output_type": "execute_result"
    },
    {
     "data": {
      "image/png": "[encoded data removed]",
      "text/plain": [
       "<Figure size 1250x1250 with 30 Axes>"
      ]
     },
     "metadata": {},
     "output_type": "display_data"
    }
   ],
   "source": [
    "sns.pairplot(df.iloc[:,1:], vars = df_n[1:-1])"
   ]
  },
  {
   "cell_type": "markdown",
   "id": "a8d83680",
   "metadata": {},
   "source": [
    "#### There is a positive correlation between Price, Open, High, Low. This means that these features will be selected as inputs for the prediction model. Feature engineering tools such as tsfresh or Feature Tools can be used to check the features chosen. The aim of the prediction model is to predict prices of copper that are taken each quarter, so a time series prediction model shall be used."
   ]
  },
  {
   "cell_type": "markdown",
   "id": "692a6ce0",
   "metadata": {},
   "source": [
    "## Modelling and Evaluation"
   ]
  },
  {
   "cell_type": "code",
   "execution_count": 469,
   "id": "0d49eb5a",
   "metadata": {},
   "outputs": [],
   "source": [
    "#Model used is long short term memory prediction\n",
    "#divide into train and test sets"
   ]
  },
  {
   "cell_type": "code",
   "execution_count": 470,
   "id": "0944c270",
   "metadata": {},
   "outputs": [],
   "source": [
    "##predict price and evaluate model by mse and by comparing with df "
   ]
  },
  {
   "cell_type": "code",
   "execution_count": 471,
   "id": "2cc560f2",
   "metadata": {},
   "outputs": [],
   "source": [
    "import tensorflow as tf\n",
    "from tensorflow.keras.models import Sequential\n",
    "from tensorflow.keras.layers import Dense\n",
    "from tensorflow.keras.layers import LSTM\n",
    "from sklearn.metrics import mean_squared_error\n",
    "from tensorflow import keras\n",
    "from tensorflow.keras import layers\n",
    "#scale using MinMaxScaler since mean is a valuable calculation for this dataset so scale to a given range\n",
    "from sklearn.preprocessing import MinMaxScaler"
   ]
  },
  {
   "cell_type": "code",
   "execution_count": 495,
   "id": "790b9f70",
   "metadata": {},
   "outputs": [],
   "source": [
    "def createdataset(dataset, look_back = 1):\n",
    "    dataX, dataY = [], []\n",
    "    for i in range(len(dataset)-look_back-1):\n",
    "        a = dataset.iloc[i:(i+look_back), 0]\n",
    "        dataX.append(a)\n",
    "        dataY.append(dataset.iloc[i + look_back, 0])\n",
    "    return np.array(dataX), np.array(dataY)"
   ]
  },
  {
   "cell_type": "code",
   "execution_count": 473,
   "id": "6f553bd7",
   "metadata": {},
   "outputs": [],
   "source": [
    "tf.random.set_seed(100)"
   ]
  },
  {
   "cell_type": "code",
   "execution_count": 474,
   "id": "69b0f427",
   "metadata": {},
   "outputs": [
    {
     "data": {
      "text/html": [
       "<div>\n",
       "<style scoped>\n",
       "    .dataframe tbody tr th:only-of-type {\n",
       "        vertical-align: middle;\n",
       "    }\n",
       "\n",
       "    .dataframe tbody tr th {\n",
       "        vertical-align: top;\n",
       "    }\n",
       "\n",
       "    .dataframe thead th {\n",
       "        text-align: right;\n",
       "    }\n",
       "</style>\n",
       "<table border=\"1\" class=\"dataframe\">\n",
       "  <thead>\n",
       "    <tr style=\"text-align: right;\">\n",
       "      <th></th>\n",
       "      <th>Price</th>\n",
       "      <th>Open</th>\n",
       "      <th>High</th>\n",
       "      <th>Low</th>\n",
       "      <th>Vol. in Thousands</th>\n",
       "      <th>Percentage Change</th>\n",
       "    </tr>\n",
       "  </thead>\n",
       "  <tbody>\n",
       "    <tr>\n",
       "      <th>0</th>\n",
       "      <td>3.8022</td>\n",
       "      <td>3.7985</td>\n",
       "      <td>3.8083</td>\n",
       "      <td>3.7905</td>\n",
       "      <td>74.212079</td>\n",
       "      <td>0.27</td>\n",
       "    </tr>\n",
       "    <tr>\n",
       "      <th>1</th>\n",
       "      <td>3.7920</td>\n",
       "      <td>3.7950</td>\n",
       "      <td>3.8290</td>\n",
       "      <td>3.7800</td>\n",
       "      <td>76.836941</td>\n",
       "      <td>-0.28</td>\n",
       "    </tr>\n",
       "    <tr>\n",
       "      <th>2</th>\n",
       "      <td>3.8027</td>\n",
       "      <td>3.7887</td>\n",
       "      <td>3.8057</td>\n",
       "      <td>3.7887</td>\n",
       "      <td>73.149638</td>\n",
       "      <td>0.49</td>\n",
       "    </tr>\n",
       "    <tr>\n",
       "      <th>3</th>\n",
       "      <td>3.7840</td>\n",
       "      <td>3.7890</td>\n",
       "      <td>3.8290</td>\n",
       "      <td>3.7655</td>\n",
       "      <td>44.880000</td>\n",
       "      <td>-0.25</td>\n",
       "    </tr>\n",
       "    <tr>\n",
       "      <th>4</th>\n",
       "      <td>3.7935</td>\n",
       "      <td>3.8365</td>\n",
       "      <td>3.8390</td>\n",
       "      <td>3.7860</td>\n",
       "      <td>36.270000</td>\n",
       "      <td>-1.15</td>\n",
       "    </tr>\n",
       "  </tbody>\n",
       "</table>\n",
       "</div>"
      ],
      "text/plain": [
       "    Price    Open    High     Low  Vol. in Thousands  Percentage Change\n",
       "0  3.8022  3.7985  3.8083  3.7905          74.212079               0.27\n",
       "1  3.7920  3.7950  3.8290  3.7800          76.836941              -0.28\n",
       "2  3.8027  3.7887  3.8057  3.7887          73.149638               0.49\n",
       "3  3.7840  3.7890  3.8290  3.7655          44.880000              -0.25\n",
       "4  3.7935  3.8365  3.8390  3.7860          36.270000              -1.15"
      ]
     },
     "execution_count": 474,
     "metadata": {},
     "output_type": "execute_result"
    }
   ],
   "source": [
    "scaler = MinMaxScaler(feature_range=(0, 1))\n",
    "dfx2 =  df.drop(['Date'], axis=1)\n",
    "dataset = scaler.fit_transform(dfx2.to_numpy())\n",
    "datasetscaled = pd.DataFrame(dfx2, columns = dfx2.columns)\n",
    "datasetscaled.head()"
   ]
  },
  {
   "cell_type": "code",
   "execution_count": 475,
   "id": "e7e2c2a1",
   "metadata": {},
   "outputs": [],
   "source": [
    "train_size = int(len(datasetscaled) * 0.7)\n",
    "test_size = len(datasetscaled) - train_size\n",
    "train = datasetscaled.iloc[0:train_size, :] \n",
    "test = datasetscaled.iloc[train_size:len(datasetscaled), :]"
   ]
  },
  {
   "cell_type": "code",
   "execution_count": 496,
   "id": "382c1e7c",
   "metadata": {},
   "outputs": [],
   "source": [
    "look_back = 1\n",
    "trainX, trainY = createdataset(train, look_back)\n",
    "testX, testY = createdataset(test, look_back)"
   ]
  },
  {
   "cell_type": "code",
   "execution_count": 477,
   "id": "4f8cb578",
   "metadata": {},
   "outputs": [
    {
     "data": {
      "text/plain": [
       "array([[3.8022],\n",
       "       [3.792 ],\n",
       "       [3.8027],\n",
       "       [3.784 ],\n",
       "       [3.7935],\n",
       "       [3.8375],\n",
       "       [3.7885],\n",
       "       [3.7185],\n",
       "       [3.706 ],\n",
       "       [3.6915],\n",
       "       [3.6575],\n",
       "       [3.6675]])"
      ]
     },
     "execution_count": 477,
     "metadata": {},
     "output_type": "execute_result"
    }
   ],
   "source": [
    "trainX"
   ]
  },
  {
   "cell_type": "code",
   "execution_count": 478,
   "id": "173eda66",
   "metadata": {},
   "outputs": [],
   "source": [
    "trainX = np.reshape(trainX, (trainX.shape[0], 1, trainX.shape[1]))\n",
    "testX = np.reshape(testX, (testX.shape[0], 1, testX.shape[1]))"
   ]
  },
  {
   "cell_type": "code",
   "execution_count": 479,
   "id": "72c68d7f",
   "metadata": {},
   "outputs": [
    {
     "name": "stdout",
     "output_type": "stream",
     "text": [
      "Epoch 1/100\n",
      "12/12 - 2s - loss: 7.8799 - 2s/epoch - 163ms/step\n",
      "Epoch 2/100\n",
      "12/12 - 0s - loss: 0.9960 - 41ms/epoch - 3ms/step\n",
      "Epoch 3/100\n",
      "12/12 - 0s - loss: 0.0333 - 48ms/epoch - 4ms/step\n",
      "Epoch 4/100\n",
      "12/12 - 0s - loss: 0.1066 - 48ms/epoch - 4ms/step\n",
      "Epoch 5/100\n",
      "12/12 - 0s - loss: 0.0258 - 49ms/epoch - 4ms/step\n",
      "Epoch 6/100\n",
      "12/12 - 0s - loss: 0.0039 - 48ms/epoch - 4ms/step\n",
      "Epoch 7/100\n",
      "12/12 - 0s - loss: 0.0060 - 48ms/epoch - 4ms/step\n",
      "Epoch 8/100\n",
      "12/12 - 0s - loss: 0.0039 - 49ms/epoch - 4ms/step\n",
      "Epoch 9/100\n",
      "12/12 - 0s - loss: 0.0035 - 48ms/epoch - 4ms/step\n",
      "Epoch 10/100\n",
      "12/12 - 0s - loss: 0.0033 - 47ms/epoch - 4ms/step\n",
      "Epoch 11/100\n",
      "12/12 - 0s - loss: 0.0033 - 48ms/epoch - 4ms/step\n",
      "Epoch 12/100\n",
      "12/12 - 0s - loss: 0.0032 - 40ms/epoch - 3ms/step\n",
      "Epoch 13/100\n",
      "12/12 - 0s - loss: 0.0042 - 41ms/epoch - 3ms/step\n",
      "Epoch 14/100\n",
      "12/12 - 0s - loss: 0.0030 - 47ms/epoch - 4ms/step\n",
      "Epoch 15/100\n",
      "12/12 - 0s - loss: 0.0036 - 47ms/epoch - 4ms/step\n",
      "Epoch 16/100\n",
      "12/12 - 0s - loss: 0.0032 - 44ms/epoch - 4ms/step\n",
      "Epoch 17/100\n",
      "12/12 - 0s - loss: 0.0034 - 42ms/epoch - 3ms/step\n",
      "Epoch 18/100\n",
      "12/12 - 0s - loss: 0.0037 - 43ms/epoch - 4ms/step\n",
      "Epoch 19/100\n",
      "12/12 - 0s - loss: 0.0034 - 43ms/epoch - 4ms/step\n",
      "Epoch 20/100\n",
      "12/12 - 0s - loss: 0.0037 - 44ms/epoch - 4ms/step\n",
      "Epoch 21/100\n",
      "12/12 - 0s - loss: 0.0041 - 46ms/epoch - 4ms/step\n",
      "Epoch 22/100\n",
      "12/12 - 0s - loss: 0.0038 - 33ms/epoch - 3ms/step\n",
      "Epoch 23/100\n",
      "12/12 - 0s - loss: 0.0036 - 38ms/epoch - 3ms/step\n",
      "Epoch 24/100\n",
      "12/12 - 0s - loss: 0.0034 - 47ms/epoch - 4ms/step\n",
      "Epoch 25/100\n",
      "12/12 - 0s - loss: 0.0033 - 46ms/epoch - 4ms/step\n",
      "Epoch 26/100\n",
      "12/12 - 0s - loss: 0.0034 - 47ms/epoch - 4ms/step\n",
      "Epoch 27/100\n",
      "12/12 - 0s - loss: 0.0037 - 33ms/epoch - 3ms/step\n",
      "Epoch 28/100\n",
      "12/12 - 0s - loss: 0.0036 - 63ms/epoch - 5ms/step\n",
      "Epoch 29/100\n",
      "12/12 - 0s - loss: 0.0033 - 65ms/epoch - 5ms/step\n",
      "Epoch 30/100\n",
      "12/12 - 0s - loss: 0.0039 - 47ms/epoch - 4ms/step\n",
      "Epoch 31/100\n",
      "12/12 - 0s - loss: 0.0036 - 52ms/epoch - 4ms/step\n",
      "Epoch 32/100\n",
      "12/12 - 0s - loss: 0.0035 - 51ms/epoch - 4ms/step\n",
      "Epoch 33/100\n",
      "12/12 - 0s - loss: 0.0035 - 47ms/epoch - 4ms/step\n",
      "Epoch 34/100\n",
      "12/12 - 0s - loss: 0.0032 - 46ms/epoch - 4ms/step\n",
      "Epoch 35/100\n",
      "12/12 - 0s - loss: 0.0036 - 41ms/epoch - 3ms/step\n",
      "Epoch 36/100\n",
      "12/12 - 0s - loss: 0.0036 - 37ms/epoch - 3ms/step\n",
      "Epoch 37/100\n",
      "12/12 - 0s - loss: 0.0038 - 52ms/epoch - 4ms/step\n",
      "Epoch 38/100\n",
      "12/12 - 0s - loss: 0.0039 - 42ms/epoch - 4ms/step\n",
      "Epoch 39/100\n",
      "12/12 - 0s - loss: 0.0040 - 46ms/epoch - 4ms/step\n",
      "Epoch 40/100\n",
      "12/12 - 0s - loss: 0.0031 - 55ms/epoch - 5ms/step\n",
      "Epoch 41/100\n",
      "12/12 - 0s - loss: 0.0040 - 64ms/epoch - 5ms/step\n",
      "Epoch 42/100\n",
      "12/12 - 0s - loss: 0.0034 - 39ms/epoch - 3ms/step\n",
      "Epoch 43/100\n",
      "12/12 - 0s - loss: 0.0034 - 37ms/epoch - 3ms/step\n",
      "Epoch 44/100\n",
      "12/12 - 0s - loss: 0.0037 - 52ms/epoch - 4ms/step\n",
      "Epoch 45/100\n",
      "12/12 - 0s - loss: 0.0044 - 47ms/epoch - 4ms/step\n",
      "Epoch 46/100\n",
      "12/12 - 0s - loss: 0.0049 - 38ms/epoch - 3ms/step\n",
      "Epoch 47/100\n",
      "12/12 - 0s - loss: 0.0036 - 44ms/epoch - 4ms/step\n",
      "Epoch 48/100\n",
      "12/12 - 0s - loss: 0.0033 - 35ms/epoch - 3ms/step\n",
      "Epoch 49/100\n",
      "12/12 - 0s - loss: 0.0038 - 39ms/epoch - 3ms/step\n",
      "Epoch 50/100\n",
      "12/12 - 0s - loss: 0.0032 - 50ms/epoch - 4ms/step\n",
      "Epoch 51/100\n",
      "12/12 - 0s - loss: 0.0044 - 47ms/epoch - 4ms/step\n",
      "Epoch 52/100\n",
      "12/12 - 0s - loss: 0.0046 - 48ms/epoch - 4ms/step\n",
      "Epoch 53/100\n",
      "12/12 - 0s - loss: 0.0041 - 43ms/epoch - 4ms/step\n",
      "Epoch 54/100\n",
      "12/12 - 0s - loss: 0.0038 - 49ms/epoch - 4ms/step\n",
      "Epoch 55/100\n",
      "12/12 - 0s - loss: 0.0036 - 48ms/epoch - 4ms/step\n",
      "Epoch 56/100\n",
      "12/12 - 0s - loss: 0.0035 - 50ms/epoch - 4ms/step\n",
      "Epoch 57/100\n",
      "12/12 - 0s - loss: 0.0046 - 52ms/epoch - 4ms/step\n",
      "Epoch 58/100\n",
      "12/12 - 0s - loss: 0.0036 - 55ms/epoch - 5ms/step\n",
      "Epoch 59/100\n",
      "12/12 - 0s - loss: 0.0036 - 38ms/epoch - 3ms/step\n",
      "Epoch 60/100\n",
      "12/12 - 0s - loss: 0.0041 - 35ms/epoch - 3ms/step\n",
      "Epoch 61/100\n",
      "12/12 - 0s - loss: 0.0035 - 33ms/epoch - 3ms/step\n",
      "Epoch 62/100\n",
      "12/12 - 0s - loss: 0.0044 - 17ms/epoch - 1ms/step\n",
      "Epoch 63/100\n",
      "12/12 - 0s - loss: 0.0034 - 33ms/epoch - 3ms/step\n",
      "Epoch 64/100\n",
      "12/12 - 0s - loss: 0.0037 - 31ms/epoch - 3ms/step\n",
      "Epoch 65/100\n",
      "12/12 - 0s - loss: 0.0040 - 34ms/epoch - 3ms/step\n",
      "Epoch 66/100\n",
      "12/12 - 0s - loss: 0.0037 - 33ms/epoch - 3ms/step\n",
      "Epoch 67/100\n",
      "12/12 - 0s - loss: 0.0036 - 32ms/epoch - 3ms/step\n",
      "Epoch 68/100\n",
      "12/12 - 0s - loss: 0.0034 - 32ms/epoch - 3ms/step\n",
      "Epoch 69/100\n",
      "12/12 - 0s - loss: 0.0037 - 32ms/epoch - 3ms/step\n",
      "Epoch 70/100\n",
      "12/12 - 0s - loss: 0.0057 - 34ms/epoch - 3ms/step\n",
      "Epoch 71/100\n",
      "12/12 - 0s - loss: 0.0038 - 34ms/epoch - 3ms/step\n",
      "Epoch 72/100\n",
      "12/12 - 0s - loss: 0.0039 - 38ms/epoch - 3ms/step\n",
      "Epoch 73/100\n",
      "12/12 - 0s - loss: 0.0047 - 38ms/epoch - 3ms/step\n",
      "Epoch 74/100\n",
      "12/12 - 0s - loss: 0.0035 - 48ms/epoch - 4ms/step\n",
      "Epoch 75/100\n",
      "12/12 - 0s - loss: 0.0042 - 68ms/epoch - 6ms/step\n",
      "Epoch 76/100\n",
      "12/12 - 0s - loss: 0.0034 - 46ms/epoch - 4ms/step\n",
      "Epoch 77/100\n",
      "12/12 - 0s - loss: 0.0033 - 36ms/epoch - 3ms/step\n",
      "Epoch 78/100\n",
      "12/12 - 0s - loss: 0.0035 - 33ms/epoch - 3ms/step\n",
      "Epoch 79/100\n",
      "12/12 - 0s - loss: 0.0035 - 36ms/epoch - 3ms/step\n",
      "Epoch 80/100\n",
      "12/12 - 0s - loss: 0.0034 - 53ms/epoch - 4ms/step\n",
      "Epoch 81/100\n",
      "12/12 - 0s - loss: 0.0036 - 50ms/epoch - 4ms/step\n",
      "Epoch 82/100\n",
      "12/12 - 0s - loss: 0.0034 - 52ms/epoch - 4ms/step\n",
      "Epoch 83/100\n",
      "12/12 - 0s - loss: 0.0040 - 34ms/epoch - 3ms/step\n",
      "Epoch 84/100\n",
      "12/12 - 0s - loss: 0.0035 - 33ms/epoch - 3ms/step\n",
      "Epoch 85/100\n",
      "12/12 - 0s - loss: 0.0034 - 32ms/epoch - 3ms/step\n",
      "Epoch 86/100\n",
      "12/12 - 0s - loss: 0.0036 - 32ms/epoch - 3ms/step\n",
      "Epoch 87/100\n",
      "12/12 - 0s - loss: 0.0041 - 34ms/epoch - 3ms/step\n",
      "Epoch 88/100\n",
      "12/12 - 0s - loss: 0.0039 - 32ms/epoch - 3ms/step\n",
      "Epoch 89/100\n",
      "12/12 - 0s - loss: 0.0050 - 35ms/epoch - 3ms/step\n",
      "Epoch 90/100\n",
      "12/12 - 0s - loss: 0.0038 - 33ms/epoch - 3ms/step\n",
      "Epoch 91/100\n",
      "12/12 - 0s - loss: 0.0044 - 83ms/epoch - 7ms/step\n",
      "Epoch 92/100\n",
      "12/12 - 0s - loss: 0.0041 - 69ms/epoch - 6ms/step\n",
      "Epoch 93/100\n",
      "12/12 - 0s - loss: 0.0036 - 46ms/epoch - 4ms/step\n",
      "Epoch 94/100\n",
      "12/12 - 0s - loss: 0.0042 - 33ms/epoch - 3ms/step\n",
      "Epoch 95/100\n",
      "12/12 - 0s - loss: 0.0039 - 34ms/epoch - 3ms/step\n",
      "Epoch 96/100\n",
      "12/12 - 0s - loss: 0.0036 - 31ms/epoch - 3ms/step\n",
      "Epoch 97/100\n",
      "12/12 - 0s - loss: 0.0038 - 35ms/epoch - 3ms/step\n",
      "Epoch 98/100\n",
      "12/12 - 0s - loss: 0.0041 - 34ms/epoch - 3ms/step\n",
      "Epoch 99/100\n",
      "12/12 - 0s - loss: 0.0038 - 52ms/epoch - 4ms/step\n",
      "Epoch 100/100\n",
      "12/12 - 0s - loss: 0.0039 - 69ms/epoch - 6ms/step\n"
     ]
    },
    {
     "data": {
      "text/plain": [
       "<keras.src.callbacks.History at 0x1d6bfbf3b80>"
      ]
     },
     "execution_count": 479,
     "metadata": {},
     "output_type": "execute_result"
    }
   ],
   "source": [
    "model = Sequential()\n",
    "model.add(LSTM(4, input_shape=(1, look_back)))\n",
    "model.add(Dense(1))\n",
    "adam = keras.optimizers.Adam(learning_rate = 0.05)\n",
    "model.compile(loss='mean_squared_error', optimizer=adam)\n",
    "model.fit(trainX, trainY, epochs=100, batch_size=1, verbose=2)"
   ]
  },
  {
   "cell_type": "code",
   "execution_count": 480,
   "id": "a50acf27",
   "metadata": {},
   "outputs": [
    {
     "name": "stdout",
     "output_type": "stream",
     "text": [
      "1/1 [==============================] - 0s 436ms/step\n",
      "1/1 [==============================] - 0s 12ms/step\n"
     ]
    }
   ],
   "source": [
    "trainPredict = model.predict(trainX)\n",
    "testPredict = model.predict(testX)"
   ]
  },
  {
   "cell_type": "code",
   "execution_count": 481,
   "id": "36e29dc4",
   "metadata": {},
   "outputs": [],
   "source": [
    "#trainPredict.shape\n",
    "#trainY.shape\n",
    "#testPredict.shape\n",
    "#testY.shape\n",
    "#datasetscaled.to_numpy()"
   ]
  },
  {
   "cell_type": "code",
   "execution_count": 482,
   "id": "c1c8fd54",
   "metadata": {},
   "outputs": [
    {
     "data": {
      "text/plain": [
       "(20, 6)"
      ]
     },
     "execution_count": 482,
     "metadata": {},
     "output_type": "execute_result"
    }
   ],
   "source": [
    "datasetscaled.shape"
   ]
  },
  {
   "cell_type": "code",
   "execution_count": 483,
   "id": "a86983a1",
   "metadata": {},
   "outputs": [
    {
     "data": {
      "text/plain": [
       "'newtrainPredict = scaler.inverse_transform(trainPredict)\\nnewtrainY = scaler.inverse_transform([trainY])\\nnewtestPredict = scaler.inverse_transform(testPredict)\\nnewtestY = scaler.inverse_transform([testY])'"
      ]
     },
     "execution_count": 483,
     "metadata": {},
     "output_type": "execute_result"
    }
   ],
   "source": [
    "#inversion of predictions improves accuracy of algorithm ##inversion here is not needed\n",
    "#the model converges between features values of 0 and 1\n",
    "#raw data doesn't utilise 0 and 1 values\n",
    "#MinMaxScaler normalises the model, as well as apply(normlaize = True)\n",
    "#in both cases the model converges, but in this case the normalised predictions are used\n",
    "'''newtrainPredict = scaler.inverse_transform(trainPredict)\n",
    "newtrainY = scaler.inverse_transform([trainY])\n",
    "newtestPredict = scaler.inverse_transform(testPredict)\n",
    "newtestY = scaler.inverse_transform([testY])'''"
   ]
  },
  {
   "cell_type": "code",
   "execution_count": 484,
   "id": "6d9896a7",
   "metadata": {},
   "outputs": [
    {
     "name": "stdout",
     "output_type": "stream",
     "text": [
      "<class 'numpy.ndarray'>\n"
     ]
    },
    {
     "data": {
      "text/html": [
       "<div>\n",
       "<style scoped>\n",
       "    .dataframe tbody tr th:only-of-type {\n",
       "        vertical-align: middle;\n",
       "    }\n",
       "\n",
       "    .dataframe tbody tr th {\n",
       "        vertical-align: top;\n",
       "    }\n",
       "\n",
       "    .dataframe thead th {\n",
       "        text-align: right;\n",
       "    }\n",
       "</style>\n",
       "<table border=\"1\" class=\"dataframe\">\n",
       "  <thead>\n",
       "    <tr style=\"text-align: right;\">\n",
       "      <th></th>\n",
       "      <th>Train Predict</th>\n",
       "    </tr>\n",
       "  </thead>\n",
       "  <tbody>\n",
       "    <tr>\n",
       "      <th>0</th>\n",
       "      <td>3.755239</td>\n",
       "    </tr>\n",
       "    <tr>\n",
       "      <th>1</th>\n",
       "      <td>3.755025</td>\n",
       "    </tr>\n",
       "    <tr>\n",
       "      <th>2</th>\n",
       "      <td>3.755250</td>\n",
       "    </tr>\n",
       "    <tr>\n",
       "      <th>3</th>\n",
       "      <td>3.754856</td>\n",
       "    </tr>\n",
       "    <tr>\n",
       "      <th>4</th>\n",
       "      <td>3.755057</td>\n",
       "    </tr>\n",
       "    <tr>\n",
       "      <th>5</th>\n",
       "      <td>3.755963</td>\n",
       "    </tr>\n",
       "    <tr>\n",
       "      <th>6</th>\n",
       "      <td>3.754951</td>\n",
       "    </tr>\n",
       "    <tr>\n",
       "      <th>7</th>\n",
       "      <td>3.753414</td>\n",
       "    </tr>\n",
       "    <tr>\n",
       "      <th>8</th>\n",
       "      <td>3.753127</td>\n",
       "    </tr>\n",
       "    <tr>\n",
       "      <th>9</th>\n",
       "      <td>3.752790</td>\n",
       "    </tr>\n",
       "    <tr>\n",
       "      <th>10</th>\n",
       "      <td>3.751979</td>\n",
       "    </tr>\n",
       "    <tr>\n",
       "      <th>11</th>\n",
       "      <td>3.752221</td>\n",
       "    </tr>\n",
       "  </tbody>\n",
       "</table>\n",
       "</div>"
      ],
      "text/plain": [
       "    Train Predict\n",
       "0        3.755239\n",
       "1        3.755025\n",
       "2        3.755250\n",
       "3        3.754856\n",
       "4        3.755057\n",
       "5        3.755963\n",
       "6        3.754951\n",
       "7        3.753414\n",
       "8        3.753127\n",
       "9        3.752790\n",
       "10       3.751979\n",
       "11       3.752221"
      ]
     },
     "execution_count": 484,
     "metadata": {},
     "output_type": "execute_result"
    }
   ],
   "source": [
    "print(type(trainPredict))\n",
    "trainPredict = pd.DataFrame(trainPredict)\n",
    "trainPredict=trainPredict.rename(columns = {0 : 'Train Predict'})\n",
    "trainPredict"
   ]
  },
  {
   "cell_type": "code",
   "execution_count": 485,
   "id": "a438dbe0",
   "metadata": {},
   "outputs": [
    {
     "name": "stdout",
     "output_type": "stream",
     "text": [
      "<class 'numpy.ndarray'>\n"
     ]
    },
    {
     "data": {
      "text/html": [
       "<div>\n",
       "<style scoped>\n",
       "    .dataframe tbody tr th:only-of-type {\n",
       "        vertical-align: middle;\n",
       "    }\n",
       "\n",
       "    .dataframe tbody tr th {\n",
       "        vertical-align: top;\n",
       "    }\n",
       "\n",
       "    .dataframe thead th {\n",
       "        text-align: right;\n",
       "    }\n",
       "</style>\n",
       "<table border=\"1\" class=\"dataframe\">\n",
       "  <thead>\n",
       "    <tr style=\"text-align: right;\">\n",
       "      <th></th>\n",
       "      <th>Train Price</th>\n",
       "    </tr>\n",
       "  </thead>\n",
       "  <tbody>\n",
       "    <tr>\n",
       "      <th>0</th>\n",
       "      <td>3.7920</td>\n",
       "    </tr>\n",
       "    <tr>\n",
       "      <th>1</th>\n",
       "      <td>3.8027</td>\n",
       "    </tr>\n",
       "    <tr>\n",
       "      <th>2</th>\n",
       "      <td>3.7840</td>\n",
       "    </tr>\n",
       "    <tr>\n",
       "      <th>3</th>\n",
       "      <td>3.7935</td>\n",
       "    </tr>\n",
       "    <tr>\n",
       "      <th>4</th>\n",
       "      <td>3.8375</td>\n",
       "    </tr>\n",
       "    <tr>\n",
       "      <th>5</th>\n",
       "      <td>3.7885</td>\n",
       "    </tr>\n",
       "    <tr>\n",
       "      <th>6</th>\n",
       "      <td>3.7185</td>\n",
       "    </tr>\n",
       "    <tr>\n",
       "      <th>7</th>\n",
       "      <td>3.7060</td>\n",
       "    </tr>\n",
       "    <tr>\n",
       "      <th>8</th>\n",
       "      <td>3.6915</td>\n",
       "    </tr>\n",
       "    <tr>\n",
       "      <th>9</th>\n",
       "      <td>3.6575</td>\n",
       "    </tr>\n",
       "    <tr>\n",
       "      <th>10</th>\n",
       "      <td>3.6675</td>\n",
       "    </tr>\n",
       "    <tr>\n",
       "      <th>11</th>\n",
       "      <td>3.7255</td>\n",
       "    </tr>\n",
       "  </tbody>\n",
       "</table>\n",
       "</div>"
      ],
      "text/plain": [
       "    Train Price\n",
       "0        3.7920\n",
       "1        3.8027\n",
       "2        3.7840\n",
       "3        3.7935\n",
       "4        3.8375\n",
       "5        3.7885\n",
       "6        3.7185\n",
       "7        3.7060\n",
       "8        3.6915\n",
       "9        3.6575\n",
       "10       3.6675\n",
       "11       3.7255"
      ]
     },
     "execution_count": 485,
     "metadata": {},
     "output_type": "execute_result"
    }
   ],
   "source": [
    "print(type(trainY))\n",
    "trainY = pd.DataFrame(trainY)\n",
    "trainY = trainY.rename(columns = {0 : 'Train Price'})\n",
    "trainY"
   ]
  },
  {
   "cell_type": "code",
   "execution_count": 486,
   "id": "67533aa6",
   "metadata": {},
   "outputs": [
    {
     "name": "stdout",
     "output_type": "stream",
     "text": [
      "<class 'numpy.ndarray'>\n"
     ]
    },
    {
     "data": {
      "text/html": [
       "<div>\n",
       "<style scoped>\n",
       "    .dataframe tbody tr th:only-of-type {\n",
       "        vertical-align: middle;\n",
       "    }\n",
       "\n",
       "    .dataframe tbody tr th {\n",
       "        vertical-align: top;\n",
       "    }\n",
       "\n",
       "    .dataframe thead th {\n",
       "        text-align: right;\n",
       "    }\n",
       "</style>\n",
       "<table border=\"1\" class=\"dataframe\">\n",
       "  <thead>\n",
       "    <tr style=\"text-align: right;\">\n",
       "      <th></th>\n",
       "      <th>Test Predict</th>\n",
       "    </tr>\n",
       "  </thead>\n",
       "  <tbody>\n",
       "    <tr>\n",
       "      <th>0</th>\n",
       "      <td>3.754448</td>\n",
       "    </tr>\n",
       "    <tr>\n",
       "      <th>1</th>\n",
       "      <td>3.754845</td>\n",
       "    </tr>\n",
       "    <tr>\n",
       "      <th>2</th>\n",
       "      <td>3.755913</td>\n",
       "    </tr>\n",
       "    <tr>\n",
       "      <th>3</th>\n",
       "      <td>3.756558</td>\n",
       "    </tr>\n",
       "  </tbody>\n",
       "</table>\n",
       "</div>"
      ],
      "text/plain": [
       "   Test Predict\n",
       "0      3.754448\n",
       "1      3.754845\n",
       "2      3.755913\n",
       "3      3.756558"
      ]
     },
     "execution_count": 486,
     "metadata": {},
     "output_type": "execute_result"
    }
   ],
   "source": [
    "print(type(testPredict))\n",
    "testPredict = pd.DataFrame(testPredict)\n",
    "testPredict = testPredict.rename(columns = {0 : 'Test Predict'})\n",
    "testPredict"
   ]
  },
  {
   "cell_type": "code",
   "execution_count": 487,
   "id": "8dd8d79d",
   "metadata": {},
   "outputs": [
    {
     "name": "stdout",
     "output_type": "stream",
     "text": [
      "<class 'numpy.ndarray'>\n"
     ]
    },
    {
     "data": {
      "text/html": [
       "<div>\n",
       "<style scoped>\n",
       "    .dataframe tbody tr th:only-of-type {\n",
       "        vertical-align: middle;\n",
       "    }\n",
       "\n",
       "    .dataframe tbody tr th {\n",
       "        vertical-align: top;\n",
       "    }\n",
       "\n",
       "    .dataframe thead th {\n",
       "        text-align: right;\n",
       "    }\n",
       "</style>\n",
       "<table border=\"1\" class=\"dataframe\">\n",
       "  <thead>\n",
       "    <tr style=\"text-align: right;\">\n",
       "      <th></th>\n",
       "      <th>Test Price</th>\n",
       "    </tr>\n",
       "  </thead>\n",
       "  <tbody>\n",
       "    <tr>\n",
       "      <th>0</th>\n",
       "      <td>3.7835</td>\n",
       "    </tr>\n",
       "    <tr>\n",
       "      <th>1</th>\n",
       "      <td>3.8350</td>\n",
       "    </tr>\n",
       "    <tr>\n",
       "      <th>2</th>\n",
       "      <td>3.8675</td>\n",
       "    </tr>\n",
       "    <tr>\n",
       "      <th>3</th>\n",
       "      <td>3.8995</td>\n",
       "    </tr>\n",
       "  </tbody>\n",
       "</table>\n",
       "</div>"
      ],
      "text/plain": [
       "   Test Price\n",
       "0      3.7835\n",
       "1      3.8350\n",
       "2      3.8675\n",
       "3      3.8995"
      ]
     },
     "execution_count": 487,
     "metadata": {},
     "output_type": "execute_result"
    }
   ],
   "source": [
    "print(type(testY))\n",
    "testY = pd.DataFrame(testY)\n",
    "testY = testY.rename(columns = {0 : 'Test Price'})\n",
    "testY"
   ]
  },
  {
   "cell_type": "code",
   "execution_count": 488,
   "id": "2b8f1531",
   "metadata": {},
   "outputs": [
    {
     "name": "stdout",
     "output_type": "stream",
     "text": [
      "Train Score: 0.06 RMSE\n",
      "Test Score: 0.10 RMSE\n"
     ]
    }
   ],
   "source": [
    "#calculate root mean squared error between actual trainY and prediction trainPredict\n",
    "#repeat with actual testY and prediction testPredict\n",
    "trainScore = np.sqrt(mean_squared_error(trainY['Train Price'], trainPredict['Train Predict']))\n",
    "print('Train Score: %.2f RMSE' % (trainScore))\n",
    "testScore = np.sqrt(mean_squared_error(testY['Test Price'], testPredict['Test Predict']))\n",
    "print('Test Score: %.2f RMSE' % (testScore))"
   ]
  },
  {
   "cell_type": "markdown",
   "id": "b6f603e9",
   "metadata": {},
   "source": [
    "#### The Train Score looks much higher than the Test Score by about double its value. This means that despite the RMSE values being low, the model looks to be overfit. This can be due to a lack of dimensionality reduction or a lack of randomisation. The look_back has been set to 2 since the features chosen to be most correlated were 3, but this still didn't solve the issue. The optimiser of the LSTM model had its learning rate changed from 0.01 to 0.05 and the look_back was kept at 1 by default. The seed and the number of epochs were set to 100. This setup yielded the best performance. "
   ]
  },
  {
   "cell_type": "markdown",
   "id": "377e7319",
   "metadata": {},
   "source": [
    "- A brief report describing planned/executed methodology, data preprocessing steps, feature selection, and model evaluation. In addition to summarizing the findings, and insights for the key factors driving the price predictions [1-pager word document]."
   ]
  }
 ],
 "metadata": {
  "kernelspec": {
   "display_name": "Python 3 (ipykernel)",
   "language": "python",
   "name": "python3"
  },
  "language_info": {
   "codemirror_mode": {
    "name": "ipython",
    "version": 3
   },
   "file_extension": ".py",
   "mimetype": "text/x-python",
   "name": "python",
   "nbconvert_exporter": "python",
   "pygments_lexer": "ipython3",
   "version": "3.9.16"
  }
 },
 "nbformat": 4,
 "nbformat_minor": 5
}
